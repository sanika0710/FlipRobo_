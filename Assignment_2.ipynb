{
 "cells": [
  {
   "cell_type": "code",
   "execution_count": 1,
   "metadata": {},
   "outputs": [],
   "source": [
    "#!pip install selenium "
   ]
  },
  {
   "cell_type": "code",
   "execution_count": 2,
   "metadata": {},
   "outputs": [],
   "source": [
    "import selenium\n",
    "import pandas as pd"
   ]
  },
  {
   "cell_type": "code",
   "execution_count": 3,
   "metadata": {},
   "outputs": [],
   "source": [
    "from selenium import webdriver"
   ]
  },
  {
   "cell_type": "code",
   "execution_count": 4,
   "metadata": {},
   "outputs": [],
   "source": [
    "driver=webdriver.Chrome(r'C:\\chromedriver.exe')"
   ]
  },
  {
   "cell_type": "code",
   "execution_count": 5,
   "metadata": {},
   "outputs": [],
   "source": [
    "#specifying the url to be scrapped\n",
    "url=\"https://www.naukri.com/data-analyst-jobs-in-bangalore?k=data%20analyst&l=bangalore\""
   ]
  },
  {
   "cell_type": "code",
   "execution_count": 6,
   "metadata": {},
   "outputs": [],
   "source": [
    "from selenium.common import exceptions\n",
    "from selenium.common.exceptions import InvalidSessionIdException"
   ]
  },
  {
   "cell_type": "code",
   "execution_count": 7,
   "metadata": {},
   "outputs": [],
   "source": [
    "driver.get(url)"
   ]
  },
  {
   "cell_type": "raw",
   "metadata": {},
   "source": [
    "# Q1 Write a python program to scrape data for “Data Analyst” Job position in “Bangalore” location. You have to scrape the job-title, job-location, company_name, experience_required. You have to scrape first 10 jobs data."
   ]
  },
  {
   "cell_type": "code",
   "execution_count": 64,
   "metadata": {},
   "outputs": [],
   "source": [
    "job_titles=[]\n",
    "company_name=[]\n",
    "experience_list=[]\n",
    "location_list=[]\n",
    "salary_list=[]"
   ]
  },
  {
   "cell_type": "code",
   "execution_count": 47,
   "metadata": {
    "scrolled": false
   },
   "outputs": [
    {
     "data": {
      "text/plain": [
       "[<selenium.webdriver.remote.webelement.WebElement (session=\"1a5ac55de4746f7af6d511d999e27fe0\", element=\"65eb8321-16f1-409e-b074-db93ee43826c\")>,\n",
       " <selenium.webdriver.remote.webelement.WebElement (session=\"1a5ac55de4746f7af6d511d999e27fe0\", element=\"6c81b45f-f761-4335-b151-b5580b408bbf\")>,\n",
       " <selenium.webdriver.remote.webelement.WebElement (session=\"1a5ac55de4746f7af6d511d999e27fe0\", element=\"8a049ccd-d786-4681-9c98-42d6795be4d1\")>,\n",
       " <selenium.webdriver.remote.webelement.WebElement (session=\"1a5ac55de4746f7af6d511d999e27fe0\", element=\"c663d5a3-c1fb-4894-9470-3f28ebced62b\")>,\n",
       " <selenium.webdriver.remote.webelement.WebElement (session=\"1a5ac55de4746f7af6d511d999e27fe0\", element=\"7b56a3f8-375a-41ee-b073-6f9a4961273b\")>,\n",
       " <selenium.webdriver.remote.webelement.WebElement (session=\"1a5ac55de4746f7af6d511d999e27fe0\", element=\"fdb62aef-d7f3-4de6-9732-8163cf108618\")>,\n",
       " <selenium.webdriver.remote.webelement.WebElement (session=\"1a5ac55de4746f7af6d511d999e27fe0\", element=\"07ac68fc-4f5c-45b5-b1b8-914b209c6bfb\")>,\n",
       " <selenium.webdriver.remote.webelement.WebElement (session=\"1a5ac55de4746f7af6d511d999e27fe0\", element=\"35a694e7-1bed-4207-98ff-e888aec93079\")>,\n",
       " <selenium.webdriver.remote.webelement.WebElement (session=\"1a5ac55de4746f7af6d511d999e27fe0\", element=\"8036ec5e-069e-4998-9c8f-e2954ddc4be1\")>,\n",
       " <selenium.webdriver.remote.webelement.WebElement (session=\"1a5ac55de4746f7af6d511d999e27fe0\", element=\"63271a64-0c07-4813-9d7c-182163b66e4b\")>]"
      ]
     },
     "execution_count": 47,
     "metadata": {},
     "output_type": "execute_result"
    }
   ],
   "source": [
    "title_tags=driver.find_elements_by_xpath('//a[@class=\"title fw500 ellipsis\"]')\n",
    "title_tags[0:10]"
   ]
  },
  {
   "cell_type": "code",
   "execution_count": 48,
   "metadata": {
    "scrolled": true
   },
   "outputs": [
    {
     "data": {
      "text/plain": [
       "[<selenium.webdriver.remote.webelement.WebElement (session=\"1a5ac55de4746f7af6d511d999e27fe0\", element=\"65eb8321-16f1-409e-b074-db93ee43826c\")>,\n",
       " <selenium.webdriver.remote.webelement.WebElement (session=\"1a5ac55de4746f7af6d511d999e27fe0\", element=\"6c81b45f-f761-4335-b151-b5580b408bbf\")>,\n",
       " <selenium.webdriver.remote.webelement.WebElement (session=\"1a5ac55de4746f7af6d511d999e27fe0\", element=\"8a049ccd-d786-4681-9c98-42d6795be4d1\")>,\n",
       " <selenium.webdriver.remote.webelement.WebElement (session=\"1a5ac55de4746f7af6d511d999e27fe0\", element=\"c663d5a3-c1fb-4894-9470-3f28ebced62b\")>,\n",
       " <selenium.webdriver.remote.webelement.WebElement (session=\"1a5ac55de4746f7af6d511d999e27fe0\", element=\"7b56a3f8-375a-41ee-b073-6f9a4961273b\")>,\n",
       " <selenium.webdriver.remote.webelement.WebElement (session=\"1a5ac55de4746f7af6d511d999e27fe0\", element=\"fdb62aef-d7f3-4de6-9732-8163cf108618\")>,\n",
       " <selenium.webdriver.remote.webelement.WebElement (session=\"1a5ac55de4746f7af6d511d999e27fe0\", element=\"07ac68fc-4f5c-45b5-b1b8-914b209c6bfb\")>,\n",
       " <selenium.webdriver.remote.webelement.WebElement (session=\"1a5ac55de4746f7af6d511d999e27fe0\", element=\"35a694e7-1bed-4207-98ff-e888aec93079\")>,\n",
       " <selenium.webdriver.remote.webelement.WebElement (session=\"1a5ac55de4746f7af6d511d999e27fe0\", element=\"8036ec5e-069e-4998-9c8f-e2954ddc4be1\")>,\n",
       " <selenium.webdriver.remote.webelement.WebElement (session=\"1a5ac55de4746f7af6d511d999e27fe0\", element=\"63271a64-0c07-4813-9d7c-182163b66e4b\")>,\n",
       " <selenium.webdriver.remote.webelement.WebElement (session=\"1a5ac55de4746f7af6d511d999e27fe0\", element=\"e0a58fce-c973-4355-8909-bd83ec92255e\")>,\n",
       " <selenium.webdriver.remote.webelement.WebElement (session=\"1a5ac55de4746f7af6d511d999e27fe0\", element=\"27f905b1-781b-4b28-9f02-f4c5ebac3b05\")>,\n",
       " <selenium.webdriver.remote.webelement.WebElement (session=\"1a5ac55de4746f7af6d511d999e27fe0\", element=\"5624bee1-eb85-4f36-8f98-e88e9c4eaacb\")>,\n",
       " <selenium.webdriver.remote.webelement.WebElement (session=\"1a5ac55de4746f7af6d511d999e27fe0\", element=\"0678d731-18ee-4b87-8b22-a4324c1463a5\")>,\n",
       " <selenium.webdriver.remote.webelement.WebElement (session=\"1a5ac55de4746f7af6d511d999e27fe0\", element=\"637764ac-337b-4947-9485-7b2ac2c8205c\")>,\n",
       " <selenium.webdriver.remote.webelement.WebElement (session=\"1a5ac55de4746f7af6d511d999e27fe0\", element=\"5239bf3d-2ee3-4118-ac3f-6c62e41f0d64\")>,\n",
       " <selenium.webdriver.remote.webelement.WebElement (session=\"1a5ac55de4746f7af6d511d999e27fe0\", element=\"7ccaf428-3163-45f2-94ef-ecbe59c2828d\")>,\n",
       " <selenium.webdriver.remote.webelement.WebElement (session=\"1a5ac55de4746f7af6d511d999e27fe0\", element=\"9ebc2d64-9dc4-489f-b724-b2da71e29a67\")>,\n",
       " <selenium.webdriver.remote.webelement.WebElement (session=\"1a5ac55de4746f7af6d511d999e27fe0\", element=\"b80b9147-b831-4560-a3d2-203253b80646\")>,\n",
       " <selenium.webdriver.remote.webelement.WebElement (session=\"1a5ac55de4746f7af6d511d999e27fe0\", element=\"4a22a8d7-9caa-49ba-aca9-8b279242f4fb\")>]"
      ]
     },
     "execution_count": 48,
     "metadata": {},
     "output_type": "execute_result"
    }
   ],
   "source": [
    "title_tags"
   ]
  },
  {
   "cell_type": "code",
   "execution_count": 49,
   "metadata": {},
   "outputs": [
    {
     "data": {
      "text/plain": [
       "['Fresher Data Engineer / Data Scientist / Data Analyst Requirements',\n",
       " 'Immediate opening For Data Scientist/Data Analyst',\n",
       " 'Business Data Analyst',\n",
       " 'SAS AML Data Analyst / Trainee & Data Science, Python Trainee',\n",
       " 'Hiring Data Analysts',\n",
       " 'Hiring Data Analysts',\n",
       " 'Data Analyst',\n",
       " 'Study Data Analyst',\n",
       " 'Data Analyst',\n",
       " 'Business Data Analyst']"
      ]
     },
     "execution_count": 49,
     "metadata": {},
     "output_type": "execute_result"
    }
   ],
   "source": [
    "for i in title_tags:\n",
    "    title=i.text\n",
    "    job_titles.append(title)\n",
    "job_titles[0:10]"
   ]
  },
  {
   "cell_type": "code",
   "execution_count": 50,
   "metadata": {},
   "outputs": [
    {
     "data": {
      "text/plain": [
       "[<selenium.webdriver.remote.webelement.WebElement (session=\"1a5ac55de4746f7af6d511d999e27fe0\", element=\"cb370244-56ee-46e9-bb63-d0a5dbe062f1\")>,\n",
       " <selenium.webdriver.remote.webelement.WebElement (session=\"1a5ac55de4746f7af6d511d999e27fe0\", element=\"5db23923-3b4b-4333-b486-3f6c65835f88\")>,\n",
       " <selenium.webdriver.remote.webelement.WebElement (session=\"1a5ac55de4746f7af6d511d999e27fe0\", element=\"9a011e4f-c353-43b5-b0d9-6036d21a4da1\")>,\n",
       " <selenium.webdriver.remote.webelement.WebElement (session=\"1a5ac55de4746f7af6d511d999e27fe0\", element=\"cd5ae80e-5c19-4513-9142-1c52b6495b0d\")>,\n",
       " <selenium.webdriver.remote.webelement.WebElement (session=\"1a5ac55de4746f7af6d511d999e27fe0\", element=\"d011ef64-705a-4966-bfbb-be94c4608635\")>,\n",
       " <selenium.webdriver.remote.webelement.WebElement (session=\"1a5ac55de4746f7af6d511d999e27fe0\", element=\"f2407809-63a1-4d1d-a24b-17717197f298\")>,\n",
       " <selenium.webdriver.remote.webelement.WebElement (session=\"1a5ac55de4746f7af6d511d999e27fe0\", element=\"c0448bf2-ef40-4b5c-9024-371831b2b951\")>,\n",
       " <selenium.webdriver.remote.webelement.WebElement (session=\"1a5ac55de4746f7af6d511d999e27fe0\", element=\"c8cd5514-a801-44f9-b8ed-e9b05deabf9c\")>,\n",
       " <selenium.webdriver.remote.webelement.WebElement (session=\"1a5ac55de4746f7af6d511d999e27fe0\", element=\"86ba0a44-5c20-4323-87d1-2dc0d1be6d20\")>,\n",
       " <selenium.webdriver.remote.webelement.WebElement (session=\"1a5ac55de4746f7af6d511d999e27fe0\", element=\"cb386588-e055-455a-9b27-48dd38b2edf0\")>]"
      ]
     },
     "execution_count": 50,
     "metadata": {},
     "output_type": "execute_result"
    }
   ],
   "source": [
    "companies_tags=driver.find_elements_by_xpath('//a[@class=\"subTitle ellipsis fleft\"]')\n",
    "companies_tags[0:10]"
   ]
  },
  {
   "cell_type": "code",
   "execution_count": 51,
   "metadata": {},
   "outputs": [
    {
     "data": {
      "text/plain": [
       "['ACHYUTAS SOFT PRIVATE LIMITED',\n",
       " 'CAIA-Center For Artificial Intelligence & Advanced Analytics',\n",
       " 'NetApp',\n",
       " 'MagicBase Royal BD Pvt Ltd',\n",
       " 'Flipkart Internet Private Limited',\n",
       " 'Flipkart Internet Private Limited',\n",
       " 'GlaxoSmithKline Pharmaceuticals Limited',\n",
       " 'GlaxoSmithKline Pharmaceuticals Limited',\n",
       " 'Cognizant Technology Solutions India Ltd',\n",
       " 'GENPACT India Private Limited']"
      ]
     },
     "execution_count": 51,
     "metadata": {},
     "output_type": "execute_result"
    }
   ],
   "source": [
    "for i in companies_tags:\n",
    "    subTitle=i.text\n",
    "    company_name.append(subTitle)\n",
    "company_name[0:10]"
   ]
  },
  {
   "cell_type": "code",
   "execution_count": 52,
   "metadata": {},
   "outputs": [],
   "source": [
    "experience_tags=driver.find_elements_by_xpath('//li[@class=\"fleft grey-text br2 placeHolderLi experience\"]/span[1]')"
   ]
  },
  {
   "cell_type": "code",
   "execution_count": 53,
   "metadata": {},
   "outputs": [
    {
     "data": {
      "text/plain": [
       "[<selenium.webdriver.remote.webelement.WebElement (session=\"1a5ac55de4746f7af6d511d999e27fe0\", element=\"564f8092-45cc-4c6f-a7ee-f0eb4f384557\")>,\n",
       " <selenium.webdriver.remote.webelement.WebElement (session=\"1a5ac55de4746f7af6d511d999e27fe0\", element=\"1d877ed0-f910-43d2-9c31-5cad7cc675c2\")>,\n",
       " <selenium.webdriver.remote.webelement.WebElement (session=\"1a5ac55de4746f7af6d511d999e27fe0\", element=\"1c3a3f9f-7ebd-423b-b809-caaddd707a6f\")>,\n",
       " <selenium.webdriver.remote.webelement.WebElement (session=\"1a5ac55de4746f7af6d511d999e27fe0\", element=\"5d9ca542-f246-4d5f-9420-6c49c68c055e\")>,\n",
       " <selenium.webdriver.remote.webelement.WebElement (session=\"1a5ac55de4746f7af6d511d999e27fe0\", element=\"dc263d8d-8e84-47fe-b8b1-0b83cebae3cf\")>,\n",
       " <selenium.webdriver.remote.webelement.WebElement (session=\"1a5ac55de4746f7af6d511d999e27fe0\", element=\"adf7c516-6c31-46b3-91aa-d77843de51f4\")>,\n",
       " <selenium.webdriver.remote.webelement.WebElement (session=\"1a5ac55de4746f7af6d511d999e27fe0\", element=\"806a5c63-b5f8-4a3c-bc57-83a165284629\")>,\n",
       " <selenium.webdriver.remote.webelement.WebElement (session=\"1a5ac55de4746f7af6d511d999e27fe0\", element=\"6b037b8d-cfc3-4735-becd-e426a9179a38\")>,\n",
       " <selenium.webdriver.remote.webelement.WebElement (session=\"1a5ac55de4746f7af6d511d999e27fe0\", element=\"679eb002-e295-4f45-8efa-9f83405b2514\")>,\n",
       " <selenium.webdriver.remote.webelement.WebElement (session=\"1a5ac55de4746f7af6d511d999e27fe0\", element=\"3a472783-4d6c-40d4-91d2-2cfc717115d6\")>]"
      ]
     },
     "execution_count": 53,
     "metadata": {},
     "output_type": "execute_result"
    }
   ],
   "source": [
    "experience_tags[0:10]"
   ]
  },
  {
   "cell_type": "code",
   "execution_count": 54,
   "metadata": {},
   "outputs": [
    {
     "data": {
      "text/plain": [
       "['0-2 Yrs',\n",
       " '0-3 Yrs',\n",
       " '2-3 Yrs',\n",
       " '0-5 Yrs',\n",
       " '2-5 Yrs',\n",
       " '2-5 Yrs',\n",
       " '3-5 Yrs',\n",
       " '4-8 Yrs',\n",
       " '3-4 Yrs',\n",
       " '3-6 Yrs']"
      ]
     },
     "execution_count": 54,
     "metadata": {},
     "output_type": "execute_result"
    }
   ],
   "source": [
    "for i in experience_tags:\n",
    "    experience=i.text\n",
    "    experience_list.append(experience)\n",
    "experience_list[0:10]"
   ]
  },
  {
   "cell_type": "code",
   "execution_count": 55,
   "metadata": {},
   "outputs": [],
   "source": [
    "loc_tags=driver.find_elements_by_xpath('//li[@class=\"fleft grey-text br2 placeHolderLi location\"]/span[1]')"
   ]
  },
  {
   "cell_type": "code",
   "execution_count": 56,
   "metadata": {
    "scrolled": true
   },
   "outputs": [
    {
     "data": {
      "text/plain": [
       "[<selenium.webdriver.remote.webelement.WebElement (session=\"1a5ac55de4746f7af6d511d999e27fe0\", element=\"28a47a00-174e-4c94-b881-4430b7f2de11\")>,\n",
       " <selenium.webdriver.remote.webelement.WebElement (session=\"1a5ac55de4746f7af6d511d999e27fe0\", element=\"8728b452-c441-45e5-bdf8-c7280416f92b\")>,\n",
       " <selenium.webdriver.remote.webelement.WebElement (session=\"1a5ac55de4746f7af6d511d999e27fe0\", element=\"bdfcfc9c-623d-43fb-8aab-40671be6a38c\")>,\n",
       " <selenium.webdriver.remote.webelement.WebElement (session=\"1a5ac55de4746f7af6d511d999e27fe0\", element=\"16c0bf1d-7567-4a46-a74e-55a25b80600d\")>,\n",
       " <selenium.webdriver.remote.webelement.WebElement (session=\"1a5ac55de4746f7af6d511d999e27fe0\", element=\"94a1aea3-1750-4496-ad01-560f42d0caef\")>,\n",
       " <selenium.webdriver.remote.webelement.WebElement (session=\"1a5ac55de4746f7af6d511d999e27fe0\", element=\"1c675b66-2ecd-4c82-b705-e3526e732204\")>,\n",
       " <selenium.webdriver.remote.webelement.WebElement (session=\"1a5ac55de4746f7af6d511d999e27fe0\", element=\"29874b49-2a9b-401e-a0db-db6e264b139e\")>,\n",
       " <selenium.webdriver.remote.webelement.WebElement (session=\"1a5ac55de4746f7af6d511d999e27fe0\", element=\"524de95a-1cb0-4f25-90f9-a31c86164328\")>,\n",
       " <selenium.webdriver.remote.webelement.WebElement (session=\"1a5ac55de4746f7af6d511d999e27fe0\", element=\"776521f2-dcf6-4466-b53c-a2b01c4be77f\")>,\n",
       " <selenium.webdriver.remote.webelement.WebElement (session=\"1a5ac55de4746f7af6d511d999e27fe0\", element=\"ce5af277-1c0d-4db2-94d4-bb58e1915433\")>,\n",
       " <selenium.webdriver.remote.webelement.WebElement (session=\"1a5ac55de4746f7af6d511d999e27fe0\", element=\"cf05c51c-c915-4c41-a541-6ff86fa10e30\")>,\n",
       " <selenium.webdriver.remote.webelement.WebElement (session=\"1a5ac55de4746f7af6d511d999e27fe0\", element=\"dd394636-79b3-4bc7-bad6-d922c7d45678\")>,\n",
       " <selenium.webdriver.remote.webelement.WebElement (session=\"1a5ac55de4746f7af6d511d999e27fe0\", element=\"5cd02266-17ce-4e3d-ba63-a461c5d73301\")>,\n",
       " <selenium.webdriver.remote.webelement.WebElement (session=\"1a5ac55de4746f7af6d511d999e27fe0\", element=\"cededf26-a4df-4559-ac3a-075e556aad89\")>,\n",
       " <selenium.webdriver.remote.webelement.WebElement (session=\"1a5ac55de4746f7af6d511d999e27fe0\", element=\"a12e8bd3-6a2b-4756-acd7-966284fb4149\")>,\n",
       " <selenium.webdriver.remote.webelement.WebElement (session=\"1a5ac55de4746f7af6d511d999e27fe0\", element=\"41002e36-d6b3-47a4-a513-b42210981f12\")>,\n",
       " <selenium.webdriver.remote.webelement.WebElement (session=\"1a5ac55de4746f7af6d511d999e27fe0\", element=\"47da3e21-e8d3-417a-bb74-59800aa9d62d\")>,\n",
       " <selenium.webdriver.remote.webelement.WebElement (session=\"1a5ac55de4746f7af6d511d999e27fe0\", element=\"acebfdb4-fbc7-4f43-998d-0ff4995a7be8\")>,\n",
       " <selenium.webdriver.remote.webelement.WebElement (session=\"1a5ac55de4746f7af6d511d999e27fe0\", element=\"1e2d663c-1f12-412f-9d7e-87be9e803460\")>,\n",
       " <selenium.webdriver.remote.webelement.WebElement (session=\"1a5ac55de4746f7af6d511d999e27fe0\", element=\"ead0c2cb-351e-454b-b0a5-45b9e3a2de28\")>]"
      ]
     },
     "execution_count": 56,
     "metadata": {},
     "output_type": "execute_result"
    }
   ],
   "source": [
    "loc_tags"
   ]
  },
  {
   "cell_type": "code",
   "execution_count": 57,
   "metadata": {},
   "outputs": [
    {
     "data": {
      "text/plain": [
       "['Delhi NCR, Bengaluru, Hyderabad',\n",
       " 'Chennai, Pune, Bengaluru, Hyderabad',\n",
       " 'Bengaluru',\n",
       " 'Bengaluru(Whitefield)',\n",
       " 'Bengaluru',\n",
       " 'Bengaluru',\n",
       " 'Bengaluru, India',\n",
       " 'Bengaluru',\n",
       " 'Bengaluru',\n",
       " 'Bengaluru']"
      ]
     },
     "execution_count": 57,
     "metadata": {},
     "output_type": "execute_result"
    }
   ],
   "source": [
    "for i in loc_tags:\n",
    "    location=i.text\n",
    "    location_list.append(location)\n",
    "location_list[0:10]"
   ]
  },
  {
   "cell_type": "code",
   "execution_count": 58,
   "metadata": {
    "scrolled": true
   },
   "outputs": [
    {
     "data": {
      "text/plain": [
       "[<selenium.webdriver.remote.webelement.WebElement (session=\"1a5ac55de4746f7af6d511d999e27fe0\", element=\"268ec7d8-17b6-46dc-8e58-ef965e5881bc\")>,\n",
       " <selenium.webdriver.remote.webelement.WebElement (session=\"1a5ac55de4746f7af6d511d999e27fe0\", element=\"42a0bd6c-8ecc-4845-ab0e-1c2501fb847e\")>,\n",
       " <selenium.webdriver.remote.webelement.WebElement (session=\"1a5ac55de4746f7af6d511d999e27fe0\", element=\"bbb5ab61-4464-44cb-8477-1b24cb55f47c\")>,\n",
       " <selenium.webdriver.remote.webelement.WebElement (session=\"1a5ac55de4746f7af6d511d999e27fe0\", element=\"df6a2adc-2bfd-41a9-a771-8423ecfee37a\")>,\n",
       " <selenium.webdriver.remote.webelement.WebElement (session=\"1a5ac55de4746f7af6d511d999e27fe0\", element=\"d65958b1-85ac-4a7f-9226-f29b6e481cb0\")>,\n",
       " <selenium.webdriver.remote.webelement.WebElement (session=\"1a5ac55de4746f7af6d511d999e27fe0\", element=\"08f9383f-466b-435a-a8f2-4aa454fb24a4\")>,\n",
       " <selenium.webdriver.remote.webelement.WebElement (session=\"1a5ac55de4746f7af6d511d999e27fe0\", element=\"bfbcc914-4509-46f6-9e79-e10e7df17029\")>,\n",
       " <selenium.webdriver.remote.webelement.WebElement (session=\"1a5ac55de4746f7af6d511d999e27fe0\", element=\"9797c156-1251-45f1-8475-e1ce6dde50c5\")>,\n",
       " <selenium.webdriver.remote.webelement.WebElement (session=\"1a5ac55de4746f7af6d511d999e27fe0\", element=\"271e760d-5da7-464f-bb06-11d9f15286df\")>,\n",
       " <selenium.webdriver.remote.webelement.WebElement (session=\"1a5ac55de4746f7af6d511d999e27fe0\", element=\"85e55e19-0338-4fdb-bf81-35be192f67ea\")>,\n",
       " <selenium.webdriver.remote.webelement.WebElement (session=\"1a5ac55de4746f7af6d511d999e27fe0\", element=\"2a662875-1200-4327-8540-b17fde00adc6\")>,\n",
       " <selenium.webdriver.remote.webelement.WebElement (session=\"1a5ac55de4746f7af6d511d999e27fe0\", element=\"dbe124db-446f-46ce-beee-d83bc2ed626e\")>,\n",
       " <selenium.webdriver.remote.webelement.WebElement (session=\"1a5ac55de4746f7af6d511d999e27fe0\", element=\"7539c550-59dc-4cab-8c77-d5fff690fba9\")>,\n",
       " <selenium.webdriver.remote.webelement.WebElement (session=\"1a5ac55de4746f7af6d511d999e27fe0\", element=\"a2e2c882-a648-46ef-866c-e081f852f1e7\")>,\n",
       " <selenium.webdriver.remote.webelement.WebElement (session=\"1a5ac55de4746f7af6d511d999e27fe0\", element=\"524789ea-e4f0-41c0-9e2d-7441471be7bb\")>,\n",
       " <selenium.webdriver.remote.webelement.WebElement (session=\"1a5ac55de4746f7af6d511d999e27fe0\", element=\"3b2c89b5-5f55-4cba-8838-80fb63aa3f43\")>,\n",
       " <selenium.webdriver.remote.webelement.WebElement (session=\"1a5ac55de4746f7af6d511d999e27fe0\", element=\"efe6d029-465c-41b3-816b-4a4bb14951cb\")>,\n",
       " <selenium.webdriver.remote.webelement.WebElement (session=\"1a5ac55de4746f7af6d511d999e27fe0\", element=\"ecace882-a238-4db2-b388-23532a884ca2\")>,\n",
       " <selenium.webdriver.remote.webelement.WebElement (session=\"1a5ac55de4746f7af6d511d999e27fe0\", element=\"7b3c7ee9-b620-4408-b050-da6e3cc5aa89\")>,\n",
       " <selenium.webdriver.remote.webelement.WebElement (session=\"1a5ac55de4746f7af6d511d999e27fe0\", element=\"12c6bbe2-559a-497b-a175-73e1d1504081\")>]"
      ]
     },
     "execution_count": 58,
     "metadata": {},
     "output_type": "execute_result"
    }
   ],
   "source": [
    "salary_tags=driver.find_elements_by_xpath('//li[@class=\"fleft grey-text br2 placeHolderLi salary\"]/span[1]')\n",
    "salary_tags"
   ]
  },
  {
   "cell_type": "code",
   "execution_count": 59,
   "metadata": {},
   "outputs": [
    {
     "data": {
      "text/plain": [
       "['3,50,000 - 8,50,000 PA.',\n",
       " '3,50,000 - 4,50,000 PA.',\n",
       " 'Not disclosed',\n",
       " '50,000 - 2,00,000 PA.',\n",
       " '3,00,000 - 6,00,000 PA.',\n",
       " '2,50,000 - 5,50,000 PA.',\n",
       " 'Not disclosed',\n",
       " 'Not disclosed',\n",
       " 'Not disclosed',\n",
       " '7,50,000 - 12,00,000 PA.']"
      ]
     },
     "execution_count": 59,
     "metadata": {},
     "output_type": "execute_result"
    }
   ],
   "source": [
    "for i in salary_tags:\n",
    "    salary=i.text\n",
    "    salary_list.append(salary)\n",
    "salary_list[0:10]"
   ]
  },
  {
   "cell_type": "code",
   "execution_count": 60,
   "metadata": {},
   "outputs": [
    {
     "name": "stdout",
     "output_type": "stream",
     "text": [
      "20 20 20 20 20\n"
     ]
    }
   ],
   "source": [
    "print(len(job_titles),len(company_name),len(experience_list),len(location_list),len(salary_list))"
   ]
  },
  {
   "cell_type": "code",
   "execution_count": 61,
   "metadata": {},
   "outputs": [],
   "source": [
    "jobs=pd.DataFrame({})\n",
    "jobs['Title']=job_titles\n",
    "jobs['Company']=company_name\n",
    "jobs['Experience']=experience_list\n",
    "jobs['Location']=location_list\n",
    "jobs['Salary']=salary_list"
   ]
  },
  {
   "cell_type": "code",
   "execution_count": 62,
   "metadata": {},
   "outputs": [
    {
     "data": {
      "text/html": [
       "<div>\n",
       "<style scoped>\n",
       "    .dataframe tbody tr th:only-of-type {\n",
       "        vertical-align: middle;\n",
       "    }\n",
       "\n",
       "    .dataframe tbody tr th {\n",
       "        vertical-align: top;\n",
       "    }\n",
       "\n",
       "    .dataframe thead th {\n",
       "        text-align: right;\n",
       "    }\n",
       "</style>\n",
       "<table border=\"1\" class=\"dataframe\">\n",
       "  <thead>\n",
       "    <tr style=\"text-align: right;\">\n",
       "      <th></th>\n",
       "      <th>Title</th>\n",
       "      <th>Company</th>\n",
       "      <th>Experience</th>\n",
       "      <th>Location</th>\n",
       "      <th>Salary</th>\n",
       "    </tr>\n",
       "  </thead>\n",
       "  <tbody>\n",
       "    <tr>\n",
       "      <th>0</th>\n",
       "      <td>Fresher Data Engineer / Data Scientist / Data ...</td>\n",
       "      <td>ACHYUTAS SOFT PRIVATE LIMITED</td>\n",
       "      <td>0-2 Yrs</td>\n",
       "      <td>Delhi NCR, Bengaluru, Hyderabad</td>\n",
       "      <td>3,50,000 - 8,50,000 PA.</td>\n",
       "    </tr>\n",
       "    <tr>\n",
       "      <th>1</th>\n",
       "      <td>Immediate opening For Data Scientist/Data Analyst</td>\n",
       "      <td>CAIA-Center For Artificial Intelligence &amp; Adva...</td>\n",
       "      <td>0-3 Yrs</td>\n",
       "      <td>Chennai, Pune, Bengaluru, Hyderabad</td>\n",
       "      <td>3,50,000 - 4,50,000 PA.</td>\n",
       "    </tr>\n",
       "    <tr>\n",
       "      <th>2</th>\n",
       "      <td>Business Data Analyst</td>\n",
       "      <td>NetApp</td>\n",
       "      <td>2-3 Yrs</td>\n",
       "      <td>Bengaluru</td>\n",
       "      <td>Not disclosed</td>\n",
       "    </tr>\n",
       "    <tr>\n",
       "      <th>3</th>\n",
       "      <td>SAS AML Data Analyst / Trainee &amp; Data Science,...</td>\n",
       "      <td>MagicBase Royal BD Pvt Ltd</td>\n",
       "      <td>0-5 Yrs</td>\n",
       "      <td>Bengaluru(Whitefield)</td>\n",
       "      <td>50,000 - 2,00,000 PA.</td>\n",
       "    </tr>\n",
       "    <tr>\n",
       "      <th>4</th>\n",
       "      <td>Hiring Data Analysts</td>\n",
       "      <td>Flipkart Internet Private Limited</td>\n",
       "      <td>2-5 Yrs</td>\n",
       "      <td>Bengaluru</td>\n",
       "      <td>3,00,000 - 6,00,000 PA.</td>\n",
       "    </tr>\n",
       "    <tr>\n",
       "      <th>5</th>\n",
       "      <td>Hiring Data Analysts</td>\n",
       "      <td>Flipkart Internet Private Limited</td>\n",
       "      <td>2-5 Yrs</td>\n",
       "      <td>Bengaluru</td>\n",
       "      <td>2,50,000 - 5,50,000 PA.</td>\n",
       "    </tr>\n",
       "    <tr>\n",
       "      <th>6</th>\n",
       "      <td>Data Analyst</td>\n",
       "      <td>GlaxoSmithKline Pharmaceuticals Limited</td>\n",
       "      <td>3-5 Yrs</td>\n",
       "      <td>Bengaluru, India</td>\n",
       "      <td>Not disclosed</td>\n",
       "    </tr>\n",
       "    <tr>\n",
       "      <th>7</th>\n",
       "      <td>Study Data Analyst</td>\n",
       "      <td>GlaxoSmithKline Pharmaceuticals Limited</td>\n",
       "      <td>4-8 Yrs</td>\n",
       "      <td>Bengaluru</td>\n",
       "      <td>Not disclosed</td>\n",
       "    </tr>\n",
       "    <tr>\n",
       "      <th>8</th>\n",
       "      <td>Data Analyst</td>\n",
       "      <td>Cognizant Technology Solutions India Ltd</td>\n",
       "      <td>3-4 Yrs</td>\n",
       "      <td>Bengaluru</td>\n",
       "      <td>Not disclosed</td>\n",
       "    </tr>\n",
       "    <tr>\n",
       "      <th>9</th>\n",
       "      <td>Business Data Analyst</td>\n",
       "      <td>GENPACT India Private Limited</td>\n",
       "      <td>3-6 Yrs</td>\n",
       "      <td>Bengaluru</td>\n",
       "      <td>7,50,000 - 12,00,000 PA.</td>\n",
       "    </tr>\n",
       "    <tr>\n",
       "      <th>10</th>\n",
       "      <td>Fresher/Trainee/Internship - Data Analyst/Busi...</td>\n",
       "      <td>IIBM Institute of Business Management</td>\n",
       "      <td>0-5 Yrs</td>\n",
       "      <td>Chennai, Bengaluru, Hyderabad</td>\n",
       "      <td>3,00,000 - 4,00,000 PA.</td>\n",
       "    </tr>\n",
       "    <tr>\n",
       "      <th>11</th>\n",
       "      <td>Data Analyst</td>\n",
       "      <td>Thinkbumblebee Analytics Pvt Ltd</td>\n",
       "      <td>3-6 Yrs</td>\n",
       "      <td>Pune, Delhi, Mumbai, Bengaluru, Hyderabad</td>\n",
       "      <td>Not disclosed</td>\n",
       "    </tr>\n",
       "    <tr>\n",
       "      <th>12</th>\n",
       "      <td>Hiring For Data Analyst ( Contractual Role)</td>\n",
       "      <td>Flipkart Internet Private Limited</td>\n",
       "      <td>3-5 Yrs</td>\n",
       "      <td>Bengaluru</td>\n",
       "      <td>3,00,000 - 8,00,000 PA.</td>\n",
       "    </tr>\n",
       "    <tr>\n",
       "      <th>13</th>\n",
       "      <td>Global Medical Data Analyst</td>\n",
       "      <td>GlaxoSmithKline Pharmaceuticals Limited</td>\n",
       "      <td>5-10 Yrs</td>\n",
       "      <td>Bengaluru</td>\n",
       "      <td>Not disclosed</td>\n",
       "    </tr>\n",
       "    <tr>\n",
       "      <th>14</th>\n",
       "      <td>Hiring|| Data Analyst || Affluent Global servi...</td>\n",
       "      <td>Affluent Global Services Pvt. Ltd.</td>\n",
       "      <td>4-6 Yrs</td>\n",
       "      <td>Bengaluru</td>\n",
       "      <td>Not disclosed</td>\n",
       "    </tr>\n",
       "    <tr>\n",
       "      <th>15</th>\n",
       "      <td>Data Analyst</td>\n",
       "      <td>IBM India Pvt. Limited</td>\n",
       "      <td>5-7 Yrs</td>\n",
       "      <td>Bengaluru</td>\n",
       "      <td>Not disclosed</td>\n",
       "    </tr>\n",
       "    <tr>\n",
       "      <th>16</th>\n",
       "      <td>Data Analyst (Telcom domain)</td>\n",
       "      <td>Oracle India Pvt. Ltd.</td>\n",
       "      <td>5-10 Yrs</td>\n",
       "      <td>Bengaluru</td>\n",
       "      <td>Not disclosed</td>\n",
       "    </tr>\n",
       "    <tr>\n",
       "      <th>17</th>\n",
       "      <td>Retainer/Consultant - Product Manager - Data S...</td>\n",
       "      <td>Fortune HR Consultant</td>\n",
       "      <td>2-7 Yrs</td>\n",
       "      <td>Bengaluru</td>\n",
       "      <td>Not disclosed</td>\n",
       "    </tr>\n",
       "    <tr>\n",
       "      <th>18</th>\n",
       "      <td>Sr . Data Analyst - Supporting Audit</td>\n",
       "      <td>Visa Inc.</td>\n",
       "      <td>1-4 Yrs</td>\n",
       "      <td>Bengaluru</td>\n",
       "      <td>Not disclosed</td>\n",
       "    </tr>\n",
       "    <tr>\n",
       "      <th>19</th>\n",
       "      <td>Business Analyst / Data Analyst required - Online</td>\n",
       "      <td>www.iibminternships.com</td>\n",
       "      <td>0-5 Yrs</td>\n",
       "      <td>Mumbai, Bengaluru, Hyderabad</td>\n",
       "      <td>4,00,000 - 5,00,000 PA.</td>\n",
       "    </tr>\n",
       "  </tbody>\n",
       "</table>\n",
       "</div>"
      ],
      "text/plain": [
       "                                                Title  \\\n",
       "0   Fresher Data Engineer / Data Scientist / Data ...   \n",
       "1   Immediate opening For Data Scientist/Data Analyst   \n",
       "2                               Business Data Analyst   \n",
       "3   SAS AML Data Analyst / Trainee & Data Science,...   \n",
       "4                                Hiring Data Analysts   \n",
       "5                                Hiring Data Analysts   \n",
       "6                                        Data Analyst   \n",
       "7                                  Study Data Analyst   \n",
       "8                                        Data Analyst   \n",
       "9                               Business Data Analyst   \n",
       "10  Fresher/Trainee/Internship - Data Analyst/Busi...   \n",
       "11                                       Data Analyst   \n",
       "12        Hiring For Data Analyst ( Contractual Role)   \n",
       "13                        Global Medical Data Analyst   \n",
       "14  Hiring|| Data Analyst || Affluent Global servi...   \n",
       "15                                       Data Analyst   \n",
       "16                       Data Analyst (Telcom domain)   \n",
       "17  Retainer/Consultant - Product Manager - Data S...   \n",
       "18               Sr . Data Analyst - Supporting Audit   \n",
       "19  Business Analyst / Data Analyst required - Online   \n",
       "\n",
       "                                              Company Experience  \\\n",
       "0                       ACHYUTAS SOFT PRIVATE LIMITED    0-2 Yrs   \n",
       "1   CAIA-Center For Artificial Intelligence & Adva...    0-3 Yrs   \n",
       "2                                              NetApp    2-3 Yrs   \n",
       "3                          MagicBase Royal BD Pvt Ltd    0-5 Yrs   \n",
       "4                   Flipkart Internet Private Limited    2-5 Yrs   \n",
       "5                   Flipkart Internet Private Limited    2-5 Yrs   \n",
       "6             GlaxoSmithKline Pharmaceuticals Limited    3-5 Yrs   \n",
       "7             GlaxoSmithKline Pharmaceuticals Limited    4-8 Yrs   \n",
       "8            Cognizant Technology Solutions India Ltd    3-4 Yrs   \n",
       "9                       GENPACT India Private Limited    3-6 Yrs   \n",
       "10              IIBM Institute of Business Management    0-5 Yrs   \n",
       "11                   Thinkbumblebee Analytics Pvt Ltd    3-6 Yrs   \n",
       "12                  Flipkart Internet Private Limited    3-5 Yrs   \n",
       "13            GlaxoSmithKline Pharmaceuticals Limited   5-10 Yrs   \n",
       "14                 Affluent Global Services Pvt. Ltd.    4-6 Yrs   \n",
       "15                             IBM India Pvt. Limited    5-7 Yrs   \n",
       "16                             Oracle India Pvt. Ltd.   5-10 Yrs   \n",
       "17                              Fortune HR Consultant    2-7 Yrs   \n",
       "18                                          Visa Inc.    1-4 Yrs   \n",
       "19                            www.iibminternships.com    0-5 Yrs   \n",
       "\n",
       "                                     Location                    Salary  \n",
       "0             Delhi NCR, Bengaluru, Hyderabad   3,50,000 - 8,50,000 PA.  \n",
       "1         Chennai, Pune, Bengaluru, Hyderabad   3,50,000 - 4,50,000 PA.  \n",
       "2                                   Bengaluru             Not disclosed  \n",
       "3                       Bengaluru(Whitefield)     50,000 - 2,00,000 PA.  \n",
       "4                                   Bengaluru   3,00,000 - 6,00,000 PA.  \n",
       "5                                   Bengaluru   2,50,000 - 5,50,000 PA.  \n",
       "6                            Bengaluru, India             Not disclosed  \n",
       "7                                   Bengaluru             Not disclosed  \n",
       "8                                   Bengaluru             Not disclosed  \n",
       "9                                   Bengaluru  7,50,000 - 12,00,000 PA.  \n",
       "10              Chennai, Bengaluru, Hyderabad   3,00,000 - 4,00,000 PA.  \n",
       "11  Pune, Delhi, Mumbai, Bengaluru, Hyderabad             Not disclosed  \n",
       "12                                  Bengaluru   3,00,000 - 8,00,000 PA.  \n",
       "13                                  Bengaluru             Not disclosed  \n",
       "14                                  Bengaluru             Not disclosed  \n",
       "15                                  Bengaluru             Not disclosed  \n",
       "16                                  Bengaluru             Not disclosed  \n",
       "17                                  Bengaluru             Not disclosed  \n",
       "18                                  Bengaluru             Not disclosed  \n",
       "19               Mumbai, Bengaluru, Hyderabad   4,00,000 - 5,00,000 PA.  "
      ]
     },
     "execution_count": 62,
     "metadata": {},
     "output_type": "execute_result"
    }
   ],
   "source": [
    "jobs"
   ]
  },
  {
   "cell_type": "raw",
   "metadata": {},
   "source": [
    "Q2: Write a python program to scrape data for “Data Scientist” Job position in “Bangalore” location. You have to scrape the job-title, job-location, company_name, full job-description. You have to scrape first 10 jobs data"
   ]
  },
  {
   "cell_type": "code",
   "execution_count": 77,
   "metadata": {},
   "outputs": [],
   "source": [
    "job_titles=[]\n",
    "company_name=[]\n",
    "job_location=[]\n",
    "experience_list=[]\n",
    "salary_list=[]"
   ]
  },
  {
   "cell_type": "code",
   "execution_count": 78,
   "metadata": {},
   "outputs": [],
   "source": [
    "url='https://www.naukri.com/data-scientist-jobs-in-banglore?k=data%20scientist&l=banglore'"
   ]
  },
  {
   "cell_type": "code",
   "execution_count": 79,
   "metadata": {},
   "outputs": [],
   "source": [
    "driver.get(url)"
   ]
  },
  {
   "cell_type": "code",
   "execution_count": 80,
   "metadata": {
    "scrolled": true
   },
   "outputs": [
    {
     "data": {
      "text/plain": [
       "[<selenium.webdriver.remote.webelement.WebElement (session=\"1a5ac55de4746f7af6d511d999e27fe0\", element=\"ca528eaf-5509-4223-af9a-373e15a8beae\")>,\n",
       " <selenium.webdriver.remote.webelement.WebElement (session=\"1a5ac55de4746f7af6d511d999e27fe0\", element=\"9818b616-12b6-4420-a365-bde78ff73c98\")>,\n",
       " <selenium.webdriver.remote.webelement.WebElement (session=\"1a5ac55de4746f7af6d511d999e27fe0\", element=\"dc87206d-0eae-4f42-89b1-01573a3f96ef\")>,\n",
       " <selenium.webdriver.remote.webelement.WebElement (session=\"1a5ac55de4746f7af6d511d999e27fe0\", element=\"29947b2a-451e-4c04-83d5-a356d4c0694c\")>,\n",
       " <selenium.webdriver.remote.webelement.WebElement (session=\"1a5ac55de4746f7af6d511d999e27fe0\", element=\"608305e7-08b9-411f-95a0-df5730dd84aa\")>,\n",
       " <selenium.webdriver.remote.webelement.WebElement (session=\"1a5ac55de4746f7af6d511d999e27fe0\", element=\"6803745f-380f-45df-9a25-1cda6323b398\")>,\n",
       " <selenium.webdriver.remote.webelement.WebElement (session=\"1a5ac55de4746f7af6d511d999e27fe0\", element=\"f9a1563f-43da-410b-86a8-ccc497e62ee3\")>,\n",
       " <selenium.webdriver.remote.webelement.WebElement (session=\"1a5ac55de4746f7af6d511d999e27fe0\", element=\"4648dbea-7c25-465c-a39d-b59dcdb069bf\")>,\n",
       " <selenium.webdriver.remote.webelement.WebElement (session=\"1a5ac55de4746f7af6d511d999e27fe0\", element=\"279b0075-294b-40b7-a8b0-52b1506a70e7\")>,\n",
       " <selenium.webdriver.remote.webelement.WebElement (session=\"1a5ac55de4746f7af6d511d999e27fe0\", element=\"7aa07b92-d690-4e85-90b1-1a4ddec78331\")>]"
      ]
     },
     "execution_count": 80,
     "metadata": {},
     "output_type": "execute_result"
    }
   ],
   "source": [
    "title_tags1=driver.find_elements_by_xpath('//a[@class=\"title fw500 ellipsis\"]')\n",
    "title_tags1[0:10]"
   ]
  },
  {
   "cell_type": "code",
   "execution_count": 81,
   "metadata": {},
   "outputs": [
    {
     "data": {
      "text/plain": [
       "['Fresher Data Engineer / Data Scientist / Data Analyst Requirements',\n",
       " 'Immediate opening For Data Scientist/Data Analyst',\n",
       " 'Data Scientist - Machine Learning',\n",
       " 'Senior Data Scientist - NLP/ Python/ R',\n",
       " 'Artificial Intelligence Analyst/Data Scientist',\n",
       " 'Data Scientist',\n",
       " 'Global Medical Data Scientist',\n",
       " 'Advanced Architect - Data Scientist',\n",
       " 'AI Resident Data Scientist Stats. Consl.',\n",
       " 'AI Resident - Data Scientist']"
      ]
     },
     "execution_count": 81,
     "metadata": {},
     "output_type": "execute_result"
    }
   ],
   "source": [
    "for i in title_tags1:\n",
    "    title=i.text\n",
    "    job_titles.append(title)\n",
    "job_titles[0:10]"
   ]
  },
  {
   "cell_type": "code",
   "execution_count": 82,
   "metadata": {},
   "outputs": [
    {
     "data": {
      "text/plain": [
       "[<selenium.webdriver.remote.webelement.WebElement (session=\"1a5ac55de4746f7af6d511d999e27fe0\", element=\"7df8228f-2285-4183-bd73-436db15ec0ed\")>,\n",
       " <selenium.webdriver.remote.webelement.WebElement (session=\"1a5ac55de4746f7af6d511d999e27fe0\", element=\"168b2039-4aec-4d0b-9c04-43f10717c1a7\")>,\n",
       " <selenium.webdriver.remote.webelement.WebElement (session=\"1a5ac55de4746f7af6d511d999e27fe0\", element=\"a161a28b-075a-449b-ad38-b909907807b0\")>,\n",
       " <selenium.webdriver.remote.webelement.WebElement (session=\"1a5ac55de4746f7af6d511d999e27fe0\", element=\"1146ffcf-c1db-4044-a334-3e728d9e8c5a\")>,\n",
       " <selenium.webdriver.remote.webelement.WebElement (session=\"1a5ac55de4746f7af6d511d999e27fe0\", element=\"5c45df8b-0c37-4354-8259-fa7269839b8e\")>,\n",
       " <selenium.webdriver.remote.webelement.WebElement (session=\"1a5ac55de4746f7af6d511d999e27fe0\", element=\"9713e8c6-d03b-4bf7-b927-7cd01561778e\")>,\n",
       " <selenium.webdriver.remote.webelement.WebElement (session=\"1a5ac55de4746f7af6d511d999e27fe0\", element=\"45d26718-c71e-49ef-8f5d-c0eb78345c35\")>,\n",
       " <selenium.webdriver.remote.webelement.WebElement (session=\"1a5ac55de4746f7af6d511d999e27fe0\", element=\"0060d558-86e4-499b-a8c2-d6b66e0c9d69\")>,\n",
       " <selenium.webdriver.remote.webelement.WebElement (session=\"1a5ac55de4746f7af6d511d999e27fe0\", element=\"e5db65b3-0ff7-4a9e-ab82-809bf4132345\")>,\n",
       " <selenium.webdriver.remote.webelement.WebElement (session=\"1a5ac55de4746f7af6d511d999e27fe0\", element=\"cdf8ede8-fafc-45b4-a7e3-7b83cb0eea32\")>]"
      ]
     },
     "execution_count": 82,
     "metadata": {},
     "output_type": "execute_result"
    }
   ],
   "source": [
    "companies_tags1=driver.find_elements_by_xpath('//a[@class=\"subTitle ellipsis fleft\"]')\n",
    "companies_tags1[0:10]"
   ]
  },
  {
   "cell_type": "code",
   "execution_count": 83,
   "metadata": {},
   "outputs": [
    {
     "data": {
      "text/plain": [
       "['ACHYUTAS SOFT PRIVATE LIMITED',\n",
       " 'CAIA-Center For Artificial Intelligence & Advanced Analytics',\n",
       " 'BLUE YONDER INDIA PRIVATE LIMITED',\n",
       " 'AVI Consulting LLP',\n",
       " 'TalentCo Search Pvt Ltd',\n",
       " 'Mailkit Private Limited',\n",
       " 'GlaxoSmithKline Pharmaceuticals Limited',\n",
       " 'Mphasis Limited',\n",
       " 'Shell India Markets Private Limited',\n",
       " 'Shell India Markets Private Limited']"
      ]
     },
     "execution_count": 83,
     "metadata": {},
     "output_type": "execute_result"
    }
   ],
   "source": [
    "for i in companies_tags1:\n",
    "    subTitle=i.text\n",
    "    company_name.append(subTitle)\n",
    "company_name[0:10]"
   ]
  },
  {
   "cell_type": "code",
   "execution_count": 84,
   "metadata": {
    "scrolled": true
   },
   "outputs": [
    {
     "data": {
      "text/plain": [
       "[<selenium.webdriver.remote.webelement.WebElement (session=\"1a5ac55de4746f7af6d511d999e27fe0\", element=\"d5de6d71-94ed-459a-8890-d65e980d7c51\")>,\n",
       " <selenium.webdriver.remote.webelement.WebElement (session=\"1a5ac55de4746f7af6d511d999e27fe0\", element=\"bde4ec9b-26ee-4c38-a090-aa74b599e092\")>,\n",
       " <selenium.webdriver.remote.webelement.WebElement (session=\"1a5ac55de4746f7af6d511d999e27fe0\", element=\"1c253b69-adc5-4ad7-94f6-7749d1ffd600\")>,\n",
       " <selenium.webdriver.remote.webelement.WebElement (session=\"1a5ac55de4746f7af6d511d999e27fe0\", element=\"71d406a0-b568-421b-ba74-6f24bb4eb90c\")>,\n",
       " <selenium.webdriver.remote.webelement.WebElement (session=\"1a5ac55de4746f7af6d511d999e27fe0\", element=\"304dcc34-d646-4236-8f6a-592e65140cf1\")>,\n",
       " <selenium.webdriver.remote.webelement.WebElement (session=\"1a5ac55de4746f7af6d511d999e27fe0\", element=\"7bd9371f-3abd-4c7c-8db1-9d6acb7abb32\")>,\n",
       " <selenium.webdriver.remote.webelement.WebElement (session=\"1a5ac55de4746f7af6d511d999e27fe0\", element=\"455f8451-77ff-4bcc-bb6e-0d34d0ed5197\")>,\n",
       " <selenium.webdriver.remote.webelement.WebElement (session=\"1a5ac55de4746f7af6d511d999e27fe0\", element=\"6dc81851-e8e1-4c32-9df1-74047a50237b\")>,\n",
       " <selenium.webdriver.remote.webelement.WebElement (session=\"1a5ac55de4746f7af6d511d999e27fe0\", element=\"9e19e188-e334-4ac7-a87b-2ff2d18064ae\")>,\n",
       " <selenium.webdriver.remote.webelement.WebElement (session=\"1a5ac55de4746f7af6d511d999e27fe0\", element=\"c96fd799-0776-4a0d-b581-af4209ced607\")>,\n",
       " <selenium.webdriver.remote.webelement.WebElement (session=\"1a5ac55de4746f7af6d511d999e27fe0\", element=\"3d1b5473-c7bc-401a-ad5e-32efacc22f8b\")>,\n",
       " <selenium.webdriver.remote.webelement.WebElement (session=\"1a5ac55de4746f7af6d511d999e27fe0\", element=\"15755c33-359a-4d5b-8619-79d2178dae4a\")>,\n",
       " <selenium.webdriver.remote.webelement.WebElement (session=\"1a5ac55de4746f7af6d511d999e27fe0\", element=\"8ef67c3b-8316-4e7a-b4e0-22ef51d7d0ba\")>,\n",
       " <selenium.webdriver.remote.webelement.WebElement (session=\"1a5ac55de4746f7af6d511d999e27fe0\", element=\"ca6cea21-0cbf-4b81-aa28-b7f6a9634f9d\")>,\n",
       " <selenium.webdriver.remote.webelement.WebElement (session=\"1a5ac55de4746f7af6d511d999e27fe0\", element=\"d5abda5d-436c-4503-9a02-a268574de6ce\")>,\n",
       " <selenium.webdriver.remote.webelement.WebElement (session=\"1a5ac55de4746f7af6d511d999e27fe0\", element=\"1a4ff4c8-8292-4474-86b3-1afed995c29b\")>,\n",
       " <selenium.webdriver.remote.webelement.WebElement (session=\"1a5ac55de4746f7af6d511d999e27fe0\", element=\"59ea23f0-4e2c-4ac2-9583-c0188fb44c5a\")>,\n",
       " <selenium.webdriver.remote.webelement.WebElement (session=\"1a5ac55de4746f7af6d511d999e27fe0\", element=\"7b9e15e7-5360-4a82-9c71-2f0420f3cdec\")>,\n",
       " <selenium.webdriver.remote.webelement.WebElement (session=\"1a5ac55de4746f7af6d511d999e27fe0\", element=\"c3634cbb-a004-42a1-b9a7-690135a1a45e\")>,\n",
       " <selenium.webdriver.remote.webelement.WebElement (session=\"1a5ac55de4746f7af6d511d999e27fe0\", element=\"55216104-902d-429c-81f4-2ea2047a5b7c\")>]"
      ]
     },
     "execution_count": 84,
     "metadata": {},
     "output_type": "execute_result"
    }
   ],
   "source": [
    "loc_tags1=driver.find_elements_by_xpath('//li[@class=\"fleft grey-text br2 placeHolderLi location\"]/span[1]')\n",
    "loc_tags1"
   ]
  },
  {
   "cell_type": "code",
   "execution_count": 87,
   "metadata": {},
   "outputs": [
    {
     "data": {
      "text/plain": [
       "['Delhi NCR, Bengaluru, Hyderabad',\n",
       " 'Chennai, Pune, Bengaluru, Hyderabad',\n",
       " 'Bengaluru',\n",
       " 'Bengaluru, Hyderabad',\n",
       " 'Mumbai, Bengaluru',\n",
       " 'Chennai, Pune, Mumbai, Bengaluru, Hyderabad, Kolkata',\n",
       " 'Bengaluru, India',\n",
       " 'Bengaluru',\n",
       " 'Bengaluru',\n",
       " 'Bengaluru']"
      ]
     },
     "execution_count": 87,
     "metadata": {},
     "output_type": "execute_result"
    }
   ],
   "source": [
    "for i in loc_tags1:\n",
    "    location=i.text\n",
    "    job_location.append(location)\n",
    "job_location[0:10]"
   ]
  },
  {
   "cell_type": "code",
   "execution_count": 86,
   "metadata": {
    "scrolled": true
   },
   "outputs": [
    {
     "data": {
      "text/plain": [
       "[<selenium.webdriver.remote.webelement.WebElement (session=\"1a5ac55de4746f7af6d511d999e27fe0\", element=\"7e4e27d3-6fa0-4386-bdda-587fcff32377\")>,\n",
       " <selenium.webdriver.remote.webelement.WebElement (session=\"1a5ac55de4746f7af6d511d999e27fe0\", element=\"1c467795-9c89-4985-9e7f-5ce6a225a7cb\")>,\n",
       " <selenium.webdriver.remote.webelement.WebElement (session=\"1a5ac55de4746f7af6d511d999e27fe0\", element=\"9f50a412-636f-4f5f-ad60-92627c2dfba8\")>,\n",
       " <selenium.webdriver.remote.webelement.WebElement (session=\"1a5ac55de4746f7af6d511d999e27fe0\", element=\"a9492f51-194d-4283-88bb-1d85719c178d\")>,\n",
       " <selenium.webdriver.remote.webelement.WebElement (session=\"1a5ac55de4746f7af6d511d999e27fe0\", element=\"05d305dc-a9d2-4985-817e-a171acc62492\")>,\n",
       " <selenium.webdriver.remote.webelement.WebElement (session=\"1a5ac55de4746f7af6d511d999e27fe0\", element=\"b93b1e7a-ac1f-47bd-a85a-f6e23eaeb2bf\")>,\n",
       " <selenium.webdriver.remote.webelement.WebElement (session=\"1a5ac55de4746f7af6d511d999e27fe0\", element=\"4fe1dbdd-4dfb-49d3-b00a-1887a115719f\")>,\n",
       " <selenium.webdriver.remote.webelement.WebElement (session=\"1a5ac55de4746f7af6d511d999e27fe0\", element=\"5213f24b-87dc-438a-a59c-2b6144923bad\")>,\n",
       " <selenium.webdriver.remote.webelement.WebElement (session=\"1a5ac55de4746f7af6d511d999e27fe0\", element=\"a7256564-d010-4ed3-ad7d-f250c9a67326\")>,\n",
       " <selenium.webdriver.remote.webelement.WebElement (session=\"1a5ac55de4746f7af6d511d999e27fe0\", element=\"09bf77aa-e9c1-4a15-8ac6-1c1faa5b60e1\")>]"
      ]
     },
     "execution_count": 86,
     "metadata": {},
     "output_type": "execute_result"
    }
   ],
   "source": [
    "experience_tags1=driver.find_elements_by_xpath('//li[@class=\"fleft grey-text br2 placeHolderLi experience\"]/span[1]')\n",
    "experience_tags1[0:10]"
   ]
  },
  {
   "cell_type": "code",
   "execution_count": 88,
   "metadata": {},
   "outputs": [
    {
     "data": {
      "text/plain": [
       "['0-2 Yrs',\n",
       " '0-3 Yrs',\n",
       " '2-7 Yrs',\n",
       " '4-9 Yrs',\n",
       " '1-5 Yrs',\n",
       " '4-9 Yrs',\n",
       " '5-7 Yrs',\n",
       " '12-18 Yrs',\n",
       " '3-5 Yrs',\n",
       " '3-5 Yrs']"
      ]
     },
     "execution_count": 88,
     "metadata": {},
     "output_type": "execute_result"
    }
   ],
   "source": [
    "for i in experience_tags1:\n",
    "    experience=i.text\n",
    "    experience_list.append(experience)\n",
    "experience_list[0:10]"
   ]
  },
  {
   "cell_type": "code",
   "execution_count": 89,
   "metadata": {
    "scrolled": true
   },
   "outputs": [
    {
     "data": {
      "text/plain": [
       "[<selenium.webdriver.remote.webelement.WebElement (session=\"1a5ac55de4746f7af6d511d999e27fe0\", element=\"41df952e-360d-4738-919d-5793e120a3ba\")>,\n",
       " <selenium.webdriver.remote.webelement.WebElement (session=\"1a5ac55de4746f7af6d511d999e27fe0\", element=\"3bf20d3a-ea02-4809-9ca0-a3f6008bd420\")>,\n",
       " <selenium.webdriver.remote.webelement.WebElement (session=\"1a5ac55de4746f7af6d511d999e27fe0\", element=\"c3836970-425e-4a5b-b68c-31459fe53d1a\")>,\n",
       " <selenium.webdriver.remote.webelement.WebElement (session=\"1a5ac55de4746f7af6d511d999e27fe0\", element=\"d76969f6-d2ef-4d15-8bf1-aabf9998e059\")>,\n",
       " <selenium.webdriver.remote.webelement.WebElement (session=\"1a5ac55de4746f7af6d511d999e27fe0\", element=\"6b212adb-5bd7-4218-ba1e-703e5d17c1ce\")>,\n",
       " <selenium.webdriver.remote.webelement.WebElement (session=\"1a5ac55de4746f7af6d511d999e27fe0\", element=\"e7e7f95f-2ea1-4e1c-a3cb-5339e2de77f3\")>,\n",
       " <selenium.webdriver.remote.webelement.WebElement (session=\"1a5ac55de4746f7af6d511d999e27fe0\", element=\"f1a28051-bf73-475e-bafb-7c01a25e11b6\")>,\n",
       " <selenium.webdriver.remote.webelement.WebElement (session=\"1a5ac55de4746f7af6d511d999e27fe0\", element=\"557fd72e-d51f-4ce7-9a9a-cb146d878752\")>,\n",
       " <selenium.webdriver.remote.webelement.WebElement (session=\"1a5ac55de4746f7af6d511d999e27fe0\", element=\"d87a1bd1-b8c7-4fe7-a2c6-be2dfd32c274\")>,\n",
       " <selenium.webdriver.remote.webelement.WebElement (session=\"1a5ac55de4746f7af6d511d999e27fe0\", element=\"b0cea2bb-d2a6-41d6-a33c-cd6e89b12ec9\")>]"
      ]
     },
     "execution_count": 89,
     "metadata": {},
     "output_type": "execute_result"
    }
   ],
   "source": [
    "salary_tags1=driver.find_elements_by_xpath('//li[@class=\"fleft grey-text br2 placeHolderLi salary\"]/span[1]')\n",
    "salary_tags1[0:10]"
   ]
  },
  {
   "cell_type": "code",
   "execution_count": 90,
   "metadata": {},
   "outputs": [
    {
     "data": {
      "text/plain": [
       "['3,50,000 - 8,50,000 PA.',\n",
       " '3,50,000 - 4,50,000 PA.',\n",
       " 'Not disclosed',\n",
       " 'Not disclosed',\n",
       " 'Not disclosed',\n",
       " 'Not disclosed',\n",
       " 'Not disclosed',\n",
       " 'Not disclosed',\n",
       " 'Not disclosed',\n",
       " 'Not disclosed']"
      ]
     },
     "execution_count": 90,
     "metadata": {},
     "output_type": "execute_result"
    }
   ],
   "source": [
    "for i in salary_tags1:\n",
    "    salary=i.text\n",
    "    salary_list.append(salary)\n",
    "salary_list[0:10]"
   ]
  },
  {
   "cell_type": "code",
   "execution_count": 97,
   "metadata": {},
   "outputs": [
    {
     "name": "stdout",
     "output_type": "stream",
     "text": [
      "20 20 20 20 20\n"
     ]
    }
   ],
   "source": [
    "print(len(job_titles),len(company_name),len(experience_list),len(job_location),len(salary_list))"
   ]
  },
  {
   "cell_type": "code",
   "execution_count": 99,
   "metadata": {},
   "outputs": [],
   "source": [
    "jobs=pd.DataFrame({})\n",
    "jobs['Title']=job_titles\n",
    "jobs['Company']=company_name\n",
    "jobs['Experience']=experience_list\n",
    "jobs['Location']=job_location\n",
    "jobs['Salary']=salary_list"
   ]
  },
  {
   "cell_type": "code",
   "execution_count": 100,
   "metadata": {},
   "outputs": [
    {
     "data": {
      "text/html": [
       "<div>\n",
       "<style scoped>\n",
       "    .dataframe tbody tr th:only-of-type {\n",
       "        vertical-align: middle;\n",
       "    }\n",
       "\n",
       "    .dataframe tbody tr th {\n",
       "        vertical-align: top;\n",
       "    }\n",
       "\n",
       "    .dataframe thead th {\n",
       "        text-align: right;\n",
       "    }\n",
       "</style>\n",
       "<table border=\"1\" class=\"dataframe\">\n",
       "  <thead>\n",
       "    <tr style=\"text-align: right;\">\n",
       "      <th></th>\n",
       "      <th>Title</th>\n",
       "      <th>Company</th>\n",
       "      <th>Experience</th>\n",
       "      <th>Location</th>\n",
       "      <th>Salary</th>\n",
       "    </tr>\n",
       "  </thead>\n",
       "  <tbody>\n",
       "    <tr>\n",
       "      <th>0</th>\n",
       "      <td>Fresher Data Engineer / Data Scientist / Data ...</td>\n",
       "      <td>ACHYUTAS SOFT PRIVATE LIMITED</td>\n",
       "      <td>0-2 Yrs</td>\n",
       "      <td>Delhi NCR, Bengaluru, Hyderabad</td>\n",
       "      <td>3,50,000 - 8,50,000 PA.</td>\n",
       "    </tr>\n",
       "    <tr>\n",
       "      <th>1</th>\n",
       "      <td>Immediate opening For Data Scientist/Data Analyst</td>\n",
       "      <td>CAIA-Center For Artificial Intelligence &amp; Adva...</td>\n",
       "      <td>0-3 Yrs</td>\n",
       "      <td>Chennai, Pune, Bengaluru, Hyderabad</td>\n",
       "      <td>3,50,000 - 4,50,000 PA.</td>\n",
       "    </tr>\n",
       "    <tr>\n",
       "      <th>2</th>\n",
       "      <td>Data Scientist - Machine Learning</td>\n",
       "      <td>BLUE YONDER INDIA PRIVATE LIMITED</td>\n",
       "      <td>2-7 Yrs</td>\n",
       "      <td>Bengaluru</td>\n",
       "      <td>Not disclosed</td>\n",
       "    </tr>\n",
       "    <tr>\n",
       "      <th>3</th>\n",
       "      <td>Senior Data Scientist - NLP/ Python/ R</td>\n",
       "      <td>AVI Consulting LLP</td>\n",
       "      <td>4-9 Yrs</td>\n",
       "      <td>Bengaluru, Hyderabad</td>\n",
       "      <td>Not disclosed</td>\n",
       "    </tr>\n",
       "    <tr>\n",
       "      <th>4</th>\n",
       "      <td>Artificial Intelligence Analyst/Data Scientist</td>\n",
       "      <td>TalentCo Search Pvt Ltd</td>\n",
       "      <td>1-5 Yrs</td>\n",
       "      <td>Mumbai, Bengaluru</td>\n",
       "      <td>Not disclosed</td>\n",
       "    </tr>\n",
       "    <tr>\n",
       "      <th>5</th>\n",
       "      <td>Data Scientist</td>\n",
       "      <td>Mailkit Private Limited</td>\n",
       "      <td>4-9 Yrs</td>\n",
       "      <td>Chennai, Pune, Mumbai, Bengaluru, Hyderabad, K...</td>\n",
       "      <td>Not disclosed</td>\n",
       "    </tr>\n",
       "    <tr>\n",
       "      <th>6</th>\n",
       "      <td>Global Medical Data Scientist</td>\n",
       "      <td>GlaxoSmithKline Pharmaceuticals Limited</td>\n",
       "      <td>5-7 Yrs</td>\n",
       "      <td>Bengaluru, India</td>\n",
       "      <td>Not disclosed</td>\n",
       "    </tr>\n",
       "    <tr>\n",
       "      <th>7</th>\n",
       "      <td>Advanced Architect - Data Scientist</td>\n",
       "      <td>Mphasis Limited</td>\n",
       "      <td>12-18 Yrs</td>\n",
       "      <td>Bengaluru</td>\n",
       "      <td>Not disclosed</td>\n",
       "    </tr>\n",
       "    <tr>\n",
       "      <th>8</th>\n",
       "      <td>AI Resident Data Scientist Stats. Consl.</td>\n",
       "      <td>Shell India Markets Private Limited</td>\n",
       "      <td>3-5 Yrs</td>\n",
       "      <td>Bengaluru</td>\n",
       "      <td>Not disclosed</td>\n",
       "    </tr>\n",
       "    <tr>\n",
       "      <th>9</th>\n",
       "      <td>AI Resident - Data Scientist</td>\n",
       "      <td>Shell India Markets Private Limited</td>\n",
       "      <td>3-5 Yrs</td>\n",
       "      <td>Bengaluru</td>\n",
       "      <td>Not disclosed</td>\n",
       "    </tr>\n",
       "    <tr>\n",
       "      <th>10</th>\n",
       "      <td>AI Resident - Data Scientist - NLP</td>\n",
       "      <td>Shell India Markets Private Limited</td>\n",
       "      <td>3-5 Yrs</td>\n",
       "      <td>Bengaluru</td>\n",
       "      <td>Not disclosed</td>\n",
       "    </tr>\n",
       "    <tr>\n",
       "      <th>11</th>\n",
       "      <td>Data Scientist (ON Contract)</td>\n",
       "      <td>Sandvik Asia Pvt. Ltd.</td>\n",
       "      <td>4-8 Yrs</td>\n",
       "      <td>Bengaluru</td>\n",
       "      <td>Not disclosed</td>\n",
       "    </tr>\n",
       "    <tr>\n",
       "      <th>12</th>\n",
       "      <td>Data Scientist (ON Contract)</td>\n",
       "      <td>Sandvik Asia Pvt. Ltd.</td>\n",
       "      <td>4-8 Yrs</td>\n",
       "      <td>Bengaluru</td>\n",
       "      <td>Not disclosed</td>\n",
       "    </tr>\n",
       "    <tr>\n",
       "      <th>13</th>\n",
       "      <td>Principal Data Scientist</td>\n",
       "      <td>Signify</td>\n",
       "      <td>10-15 Yrs</td>\n",
       "      <td>Bengaluru</td>\n",
       "      <td>Not disclosed</td>\n",
       "    </tr>\n",
       "    <tr>\n",
       "      <th>14</th>\n",
       "      <td>Data Scientist</td>\n",
       "      <td>Virtusa Consulting Services Pvt Ltd</td>\n",
       "      <td>9-14 Yrs</td>\n",
       "      <td>Chennai, Bengaluru, Hyderabad</td>\n",
       "      <td>Not disclosed</td>\n",
       "    </tr>\n",
       "    <tr>\n",
       "      <th>15</th>\n",
       "      <td>Looking For Data scientist - Bangalore</td>\n",
       "      <td>Element Infomatics (India) Pvt. Ltd.</td>\n",
       "      <td>4-7 Yrs</td>\n",
       "      <td>Mumbai, Bengaluru, Hyderabad</td>\n",
       "      <td>Not disclosed</td>\n",
       "    </tr>\n",
       "    <tr>\n",
       "      <th>16</th>\n",
       "      <td>Business Analyst - Data Scientist</td>\n",
       "      <td>ExecBoardinAsia</td>\n",
       "      <td>5-10 Yrs</td>\n",
       "      <td>Bengaluru</td>\n",
       "      <td>Not disclosed</td>\n",
       "    </tr>\n",
       "    <tr>\n",
       "      <th>17</th>\n",
       "      <td>Data Scientist</td>\n",
       "      <td>Applied Materials</td>\n",
       "      <td>4-7 Yrs</td>\n",
       "      <td>Bengaluru</td>\n",
       "      <td>Not disclosed</td>\n",
       "    </tr>\n",
       "    <tr>\n",
       "      <th>18</th>\n",
       "      <td>Business Analyst - Data Scientist</td>\n",
       "      <td>Mitel Networks Corporation</td>\n",
       "      <td>4-8 Yrs</td>\n",
       "      <td>Bengaluru</td>\n",
       "      <td>Not disclosed</td>\n",
       "    </tr>\n",
       "    <tr>\n",
       "      <th>19</th>\n",
       "      <td>Senior Data Scientist</td>\n",
       "      <td>Zymr Systems Pvt. Ltd.</td>\n",
       "      <td>8-10 Yrs</td>\n",
       "      <td>Pune, Ahmedabad, Bengaluru</td>\n",
       "      <td>Not disclosed</td>\n",
       "    </tr>\n",
       "  </tbody>\n",
       "</table>\n",
       "</div>"
      ],
      "text/plain": [
       "                                                Title  \\\n",
       "0   Fresher Data Engineer / Data Scientist / Data ...   \n",
       "1   Immediate opening For Data Scientist/Data Analyst   \n",
       "2                   Data Scientist - Machine Learning   \n",
       "3              Senior Data Scientist - NLP/ Python/ R   \n",
       "4      Artificial Intelligence Analyst/Data Scientist   \n",
       "5                                      Data Scientist   \n",
       "6                       Global Medical Data Scientist   \n",
       "7                 Advanced Architect - Data Scientist   \n",
       "8            AI Resident Data Scientist Stats. Consl.   \n",
       "9                        AI Resident - Data Scientist   \n",
       "10                 AI Resident - Data Scientist - NLP   \n",
       "11                       Data Scientist (ON Contract)   \n",
       "12                       Data Scientist (ON Contract)   \n",
       "13                           Principal Data Scientist   \n",
       "14                                     Data Scientist   \n",
       "15             Looking For Data scientist - Bangalore   \n",
       "16                  Business Analyst - Data Scientist   \n",
       "17                                     Data Scientist   \n",
       "18                  Business Analyst - Data Scientist   \n",
       "19                              Senior Data Scientist   \n",
       "\n",
       "                                              Company Experience  \\\n",
       "0                       ACHYUTAS SOFT PRIVATE LIMITED    0-2 Yrs   \n",
       "1   CAIA-Center For Artificial Intelligence & Adva...    0-3 Yrs   \n",
       "2                   BLUE YONDER INDIA PRIVATE LIMITED    2-7 Yrs   \n",
       "3                                  AVI Consulting LLP    4-9 Yrs   \n",
       "4                             TalentCo Search Pvt Ltd    1-5 Yrs   \n",
       "5                             Mailkit Private Limited    4-9 Yrs   \n",
       "6             GlaxoSmithKline Pharmaceuticals Limited    5-7 Yrs   \n",
       "7                                     Mphasis Limited  12-18 Yrs   \n",
       "8                 Shell India Markets Private Limited    3-5 Yrs   \n",
       "9                 Shell India Markets Private Limited    3-5 Yrs   \n",
       "10                Shell India Markets Private Limited    3-5 Yrs   \n",
       "11                             Sandvik Asia Pvt. Ltd.    4-8 Yrs   \n",
       "12                             Sandvik Asia Pvt. Ltd.    4-8 Yrs   \n",
       "13                                            Signify  10-15 Yrs   \n",
       "14                Virtusa Consulting Services Pvt Ltd   9-14 Yrs   \n",
       "15               Element Infomatics (India) Pvt. Ltd.    4-7 Yrs   \n",
       "16                                    ExecBoardinAsia   5-10 Yrs   \n",
       "17                                  Applied Materials    4-7 Yrs   \n",
       "18                         Mitel Networks Corporation    4-8 Yrs   \n",
       "19                             Zymr Systems Pvt. Ltd.   8-10 Yrs   \n",
       "\n",
       "                                             Location                   Salary  \n",
       "0                     Delhi NCR, Bengaluru, Hyderabad  3,50,000 - 8,50,000 PA.  \n",
       "1                 Chennai, Pune, Bengaluru, Hyderabad  3,50,000 - 4,50,000 PA.  \n",
       "2                                           Bengaluru            Not disclosed  \n",
       "3                                Bengaluru, Hyderabad            Not disclosed  \n",
       "4                                   Mumbai, Bengaluru            Not disclosed  \n",
       "5   Chennai, Pune, Mumbai, Bengaluru, Hyderabad, K...            Not disclosed  \n",
       "6                                    Bengaluru, India            Not disclosed  \n",
       "7                                           Bengaluru            Not disclosed  \n",
       "8                                           Bengaluru            Not disclosed  \n",
       "9                                           Bengaluru            Not disclosed  \n",
       "10                                          Bengaluru            Not disclosed  \n",
       "11                                          Bengaluru            Not disclosed  \n",
       "12                                          Bengaluru            Not disclosed  \n",
       "13                                          Bengaluru            Not disclosed  \n",
       "14                      Chennai, Bengaluru, Hyderabad            Not disclosed  \n",
       "15                       Mumbai, Bengaluru, Hyderabad            Not disclosed  \n",
       "16                                          Bengaluru            Not disclosed  \n",
       "17                                          Bengaluru            Not disclosed  \n",
       "18                                          Bengaluru            Not disclosed  \n",
       "19                         Pune, Ahmedabad, Bengaluru            Not disclosed  "
      ]
     },
     "execution_count": 100,
     "metadata": {},
     "output_type": "execute_result"
    }
   ],
   "source": [
    "jobs"
   ]
  },
  {
   "cell_type": "markdown",
   "metadata": {},
   "source": [
    "Q3: In this question you have to scrape data using the filters available on the webpage as shown below:"
   ]
  },
  {
   "cell_type": "code",
   "execution_count": 1,
   "metadata": {},
   "outputs": [],
   "source": [
    "job_titles=[]\n",
    "company_name=[]\n",
    "job_location=[]\n",
    "experience_list=[]\n",
    "salary_list=[]"
   ]
  },
  {
   "cell_type": "code",
   "execution_count": 2,
   "metadata": {},
   "outputs": [],
   "source": [
    "url=\"https://www.naukri.com/data-scientist-jobs?k=data%20scientist&cityType=25.9.31&ctcFilter=3to6\""
   ]
  },
  {
   "cell_type": "code",
   "execution_count": 4,
   "metadata": {},
   "outputs": [],
   "source": [
    "import selenium\n",
    "import pandas as pd\n",
    "from selenium import webdriver\n",
    "driver=webdriver.Chrome(r'C:\\chromedriver.exe')\n",
    "\n",
    "driver.get(url)"
   ]
  },
  {
   "cell_type": "code",
   "execution_count": 6,
   "metadata": {},
   "outputs": [
    {
     "data": {
      "text/plain": [
       "['Fresher Data Engineer / Data Scientist / Data Analyst Requirements',\n",
       " 'Data Scientist - Python/Machine Learning',\n",
       " 'Only Fresher / Data Scientist / Data Analyst / Business Analytics- MNC',\n",
       " 'Data Scientist',\n",
       " 'Data Scientist',\n",
       " 'Lead Data Scientist',\n",
       " 'Excellent opportunity For Lead Data Scientist at Noida location',\n",
       " 'Lead Data Scientist',\n",
       " 'Excellent opportunity For Lead Data Scientist at Noida location',\n",
       " 'Data Scientist']"
      ]
     },
     "execution_count": 6,
     "metadata": {},
     "output_type": "execute_result"
    }
   ],
   "source": [
    "title_tags1=driver.find_elements_by_xpath('//a[@class=\"title fw500 ellipsis\"]')\n",
    "for i in title_tags1:\n",
    "    title=i.text\n",
    "    job_titles.append(title)\n",
    "job_titles[0:10]"
   ]
  },
  {
   "cell_type": "code",
   "execution_count": 8,
   "metadata": {},
   "outputs": [
    {
     "data": {
      "text/plain": [
       "['ACHYUTAS SOFT PRIVATE LIMITED',\n",
       " 'Jubna',\n",
       " 'GABA Consultancy services',\n",
       " 'PureSoftware Pvt Ltd.',\n",
       " 'World Wide Technology',\n",
       " 'NEC CORPORATION INDIA PRIVATE LTD',\n",
       " 'NEC CORPORATION INDIA PRIVATE LTD',\n",
       " 'NEC CORPORATION INDIA PRIVATE LTD',\n",
       " 'NEC CORPORATION INDIA PRIVATE LTD',\n",
       " 'Stark Industries']"
      ]
     },
     "execution_count": 8,
     "metadata": {},
     "output_type": "execute_result"
    }
   ],
   "source": [
    "companies_tags1=driver.find_elements_by_xpath('//a[@class=\"subTitle ellipsis fleft\"]')\n",
    "for i in companies_tags1:\n",
    "    subTitle=i.text\n",
    "    company_name.append(subTitle)\n",
    "company_name[0:10]"
   ]
  },
  {
   "cell_type": "code",
   "execution_count": 9,
   "metadata": {},
   "outputs": [
    {
     "data": {
      "text/plain": [
       "['Delhi NCR, Bengaluru, Hyderabad',\n",
       " 'Noida',\n",
       " 'Delhi NCR, Greater Noida, Noida',\n",
       " 'Gurgaon',\n",
       " 'Gurgaon',\n",
       " 'Delhi NCR, Noida(Sector-142 Noida)',\n",
       " 'Delhi NCR(Sector-142 Noida), Noida',\n",
       " 'Delhi NCR, Noida(Sector-142 Noida)',\n",
       " 'Delhi NCR(Sector-142 Noida), Noida',\n",
       " 'Delhi']"
      ]
     },
     "execution_count": 9,
     "metadata": {},
     "output_type": "execute_result"
    }
   ],
   "source": [
    "loc_tags1=driver.find_elements_by_xpath('//li[@class=\"fleft grey-text br2 placeHolderLi location\"]/span[1]')\n",
    "for i in loc_tags1:\n",
    "    location=i.text\n",
    "    job_location.append(location)\n",
    "job_location[0:10]"
   ]
  },
  {
   "cell_type": "code",
   "execution_count": 10,
   "metadata": {},
   "outputs": [
    {
     "data": {
      "text/plain": [
       "['0-2 Yrs',\n",
       " '5-8 Yrs',\n",
       " '0-0 Yrs',\n",
       " '5-9 Yrs',\n",
       " '3-8 Yrs',\n",
       " '9-14 Yrs',\n",
       " '9-14 Yrs',\n",
       " '9-14 Yrs',\n",
       " '9-14 Yrs',\n",
       " '3-5 Yrs']"
      ]
     },
     "execution_count": 10,
     "metadata": {},
     "output_type": "execute_result"
    }
   ],
   "source": [
    "experience_tags1=driver.find_elements_by_xpath('//li[@class=\"fleft grey-text br2 placeHolderLi experience\"]/span[1]')\n",
    "for i in experience_tags1:\n",
    "    experience=i.text\n",
    "    experience_list.append(experience)\n",
    "experience_list[0:10]"
   ]
  },
  {
   "cell_type": "code",
   "execution_count": 11,
   "metadata": {},
   "outputs": [
    {
     "data": {
      "text/plain": [
       "['3,50,000 - 8,50,000 PA.',\n",
       " 'Not disclosed',\n",
       " '2,25,000 - 4,75,000 PA.',\n",
       " 'Not disclosed',\n",
       " 'Not disclosed',\n",
       " 'Not disclosed',\n",
       " 'Not disclosed',\n",
       " 'Not disclosed',\n",
       " 'Not disclosed',\n",
       " 'Not disclosed']"
      ]
     },
     "execution_count": 11,
     "metadata": {},
     "output_type": "execute_result"
    }
   ],
   "source": [
    "salary_tags1=driver.find_elements_by_xpath('//li[@class=\"fleft grey-text br2 placeHolderLi salary\"]/span[1]')\n",
    "for i in salary_tags1:\n",
    "    salary=i.text\n",
    "    salary_list.append(salary)\n",
    "salary_list[0:10]"
   ]
  },
  {
   "cell_type": "code",
   "execution_count": 12,
   "metadata": {},
   "outputs": [
    {
     "name": "stdout",
     "output_type": "stream",
     "text": [
      "20 20 20 20 20\n"
     ]
    }
   ],
   "source": [
    "print(len(job_titles),len(company_name),len(experience_list),len(job_location),len(salary_list))"
   ]
  },
  {
   "cell_type": "code",
   "execution_count": 13,
   "metadata": {},
   "outputs": [],
   "source": [
    "jobs=pd.DataFrame({})\n",
    "jobs['Title']=job_titles\n",
    "jobs['Company']=company_name\n",
    "jobs['Experience']=experience_list\n",
    "jobs['Location']=job_location\n",
    "jobs['Salary']=salary_list"
   ]
  },
  {
   "cell_type": "code",
   "execution_count": 14,
   "metadata": {},
   "outputs": [
    {
     "data": {
      "text/html": [
       "<div>\n",
       "<style scoped>\n",
       "    .dataframe tbody tr th:only-of-type {\n",
       "        vertical-align: middle;\n",
       "    }\n",
       "\n",
       "    .dataframe tbody tr th {\n",
       "        vertical-align: top;\n",
       "    }\n",
       "\n",
       "    .dataframe thead th {\n",
       "        text-align: right;\n",
       "    }\n",
       "</style>\n",
       "<table border=\"1\" class=\"dataframe\">\n",
       "  <thead>\n",
       "    <tr style=\"text-align: right;\">\n",
       "      <th></th>\n",
       "      <th>Title</th>\n",
       "      <th>Company</th>\n",
       "      <th>Experience</th>\n",
       "      <th>Location</th>\n",
       "      <th>Salary</th>\n",
       "    </tr>\n",
       "  </thead>\n",
       "  <tbody>\n",
       "    <tr>\n",
       "      <th>0</th>\n",
       "      <td>Fresher Data Engineer / Data Scientist / Data ...</td>\n",
       "      <td>ACHYUTAS SOFT PRIVATE LIMITED</td>\n",
       "      <td>0-2 Yrs</td>\n",
       "      <td>Delhi NCR, Bengaluru, Hyderabad</td>\n",
       "      <td>3,50,000 - 8,50,000 PA.</td>\n",
       "    </tr>\n",
       "    <tr>\n",
       "      <th>1</th>\n",
       "      <td>Data Scientist - Python/Machine Learning</td>\n",
       "      <td>Jubna</td>\n",
       "      <td>5-8 Yrs</td>\n",
       "      <td>Noida</td>\n",
       "      <td>Not disclosed</td>\n",
       "    </tr>\n",
       "    <tr>\n",
       "      <th>2</th>\n",
       "      <td>Only Fresher / Data Scientist / Data Analyst /...</td>\n",
       "      <td>GABA Consultancy services</td>\n",
       "      <td>0-0 Yrs</td>\n",
       "      <td>Delhi NCR, Greater Noida, Noida</td>\n",
       "      <td>2,25,000 - 4,75,000 PA.</td>\n",
       "    </tr>\n",
       "    <tr>\n",
       "      <th>3</th>\n",
       "      <td>Data Scientist</td>\n",
       "      <td>PureSoftware Pvt Ltd.</td>\n",
       "      <td>5-9 Yrs</td>\n",
       "      <td>Gurgaon</td>\n",
       "      <td>Not disclosed</td>\n",
       "    </tr>\n",
       "    <tr>\n",
       "      <th>4</th>\n",
       "      <td>Data Scientist</td>\n",
       "      <td>World Wide Technology</td>\n",
       "      <td>3-8 Yrs</td>\n",
       "      <td>Gurgaon</td>\n",
       "      <td>Not disclosed</td>\n",
       "    </tr>\n",
       "    <tr>\n",
       "      <th>5</th>\n",
       "      <td>Lead Data Scientist</td>\n",
       "      <td>NEC CORPORATION INDIA PRIVATE LTD</td>\n",
       "      <td>9-14 Yrs</td>\n",
       "      <td>Delhi NCR, Noida(Sector-142 Noida)</td>\n",
       "      <td>Not disclosed</td>\n",
       "    </tr>\n",
       "    <tr>\n",
       "      <th>6</th>\n",
       "      <td>Excellent opportunity For Lead Data Scientist ...</td>\n",
       "      <td>NEC CORPORATION INDIA PRIVATE LTD</td>\n",
       "      <td>9-14 Yrs</td>\n",
       "      <td>Delhi NCR(Sector-142 Noida), Noida</td>\n",
       "      <td>Not disclosed</td>\n",
       "    </tr>\n",
       "    <tr>\n",
       "      <th>7</th>\n",
       "      <td>Lead Data Scientist</td>\n",
       "      <td>NEC CORPORATION INDIA PRIVATE LTD</td>\n",
       "      <td>9-14 Yrs</td>\n",
       "      <td>Delhi NCR, Noida(Sector-142 Noida)</td>\n",
       "      <td>Not disclosed</td>\n",
       "    </tr>\n",
       "    <tr>\n",
       "      <th>8</th>\n",
       "      <td>Excellent opportunity For Lead Data Scientist ...</td>\n",
       "      <td>NEC CORPORATION INDIA PRIVATE LTD</td>\n",
       "      <td>9-14 Yrs</td>\n",
       "      <td>Delhi NCR(Sector-142 Noida), Noida</td>\n",
       "      <td>Not disclosed</td>\n",
       "    </tr>\n",
       "    <tr>\n",
       "      <th>9</th>\n",
       "      <td>Data Scientist</td>\n",
       "      <td>Stark Industries</td>\n",
       "      <td>3-5 Yrs</td>\n",
       "      <td>Delhi</td>\n",
       "      <td>Not disclosed</td>\n",
       "    </tr>\n",
       "    <tr>\n",
       "      <th>10</th>\n",
       "      <td>Job | Opportunity For Senior Role(Data Scienti...</td>\n",
       "      <td>BA Continuum India Pvt. Ltd</td>\n",
       "      <td>14-17 Yrs</td>\n",
       "      <td>Gandhinagar, Delhi NCR, Mumbai, Gurgaon</td>\n",
       "      <td>Not disclosed</td>\n",
       "    </tr>\n",
       "    <tr>\n",
       "      <th>11</th>\n",
       "      <td>Data Scientist For A Leading Movers &amp; Packers ...</td>\n",
       "      <td>Myfuture Placement Consultancy</td>\n",
       "      <td>1-2 Yrs</td>\n",
       "      <td>Delhi NCR</td>\n",
       "      <td>2,00,000 - 3,00,000 PA.</td>\n",
       "    </tr>\n",
       "    <tr>\n",
       "      <th>12</th>\n",
       "      <td>Data Scientist</td>\n",
       "      <td>KNOWLEDGE EXCEL PRIVATE LIMITED</td>\n",
       "      <td>1-3 Yrs</td>\n",
       "      <td>Delhi NCR(Patparganj Industrial Area)</td>\n",
       "      <td>Not disclosed</td>\n",
       "    </tr>\n",
       "    <tr>\n",
       "      <th>13</th>\n",
       "      <td>Data Scientist</td>\n",
       "      <td>Imbibe Consultancy Services Pvt Ltd</td>\n",
       "      <td>6-10 Yrs</td>\n",
       "      <td>Delhi NCR, Bengaluru, Hyderabad</td>\n",
       "      <td>5,00,000 - 15,00,000 PA.</td>\n",
       "    </tr>\n",
       "    <tr>\n",
       "      <th>14</th>\n",
       "      <td>Tech Mahindra Hiring For Data Scientist- Hyder...</td>\n",
       "      <td>tech mahindra ltd</td>\n",
       "      <td>3-8 Yrs</td>\n",
       "      <td>Hyderabad, Noida</td>\n",
       "      <td>Not disclosed</td>\n",
       "    </tr>\n",
       "    <tr>\n",
       "      <th>15</th>\n",
       "      <td>Data Scientist Machine Learning</td>\n",
       "      <td>Delhivery</td>\n",
       "      <td>1-3 Yrs</td>\n",
       "      <td>Gurgaon</td>\n",
       "      <td>Not disclosed</td>\n",
       "    </tr>\n",
       "    <tr>\n",
       "      <th>16</th>\n",
       "      <td>Business Analyst - Data Scientist</td>\n",
       "      <td>HyreFox Consultants Pvt Ltd</td>\n",
       "      <td>3-5 Yrs</td>\n",
       "      <td>Gurgaon</td>\n",
       "      <td>Not disclosed</td>\n",
       "    </tr>\n",
       "    <tr>\n",
       "      <th>17</th>\n",
       "      <td>Analyst - Data Scientist</td>\n",
       "      <td>HyreFox Consultants Pvt Ltd</td>\n",
       "      <td>1-3 Yrs</td>\n",
       "      <td>Gurgaon</td>\n",
       "      <td>Not disclosed</td>\n",
       "    </tr>\n",
       "    <tr>\n",
       "      <th>18</th>\n",
       "      <td>Only Fresher / Data Scientist / Data Analyst /...</td>\n",
       "      <td>GABA Consultancy services</td>\n",
       "      <td>0-0 Yrs</td>\n",
       "      <td>Delhi NCR, Noida, Gurgaon</td>\n",
       "      <td>2,25,000 - 4,75,000 PA.</td>\n",
       "    </tr>\n",
       "    <tr>\n",
       "      <th>19</th>\n",
       "      <td>Senior Data Scientist</td>\n",
       "      <td>iNICU</td>\n",
       "      <td>1-5 Yrs</td>\n",
       "      <td>Delhi</td>\n",
       "      <td>Not disclosed</td>\n",
       "    </tr>\n",
       "  </tbody>\n",
       "</table>\n",
       "</div>"
      ],
      "text/plain": [
       "                                                Title  \\\n",
       "0   Fresher Data Engineer / Data Scientist / Data ...   \n",
       "1            Data Scientist - Python/Machine Learning   \n",
       "2   Only Fresher / Data Scientist / Data Analyst /...   \n",
       "3                                      Data Scientist   \n",
       "4                                      Data Scientist   \n",
       "5                                 Lead Data Scientist   \n",
       "6   Excellent opportunity For Lead Data Scientist ...   \n",
       "7                                 Lead Data Scientist   \n",
       "8   Excellent opportunity For Lead Data Scientist ...   \n",
       "9                                      Data Scientist   \n",
       "10  Job | Opportunity For Senior Role(Data Scienti...   \n",
       "11  Data Scientist For A Leading Movers & Packers ...   \n",
       "12                                     Data Scientist   \n",
       "13                                     Data Scientist   \n",
       "14  Tech Mahindra Hiring For Data Scientist- Hyder...   \n",
       "15                    Data Scientist Machine Learning   \n",
       "16                  Business Analyst - Data Scientist   \n",
       "17                           Analyst - Data Scientist   \n",
       "18  Only Fresher / Data Scientist / Data Analyst /...   \n",
       "19                              Senior Data Scientist   \n",
       "\n",
       "                                Company Experience  \\\n",
       "0         ACHYUTAS SOFT PRIVATE LIMITED    0-2 Yrs   \n",
       "1                                 Jubna    5-8 Yrs   \n",
       "2             GABA Consultancy services    0-0 Yrs   \n",
       "3                 PureSoftware Pvt Ltd.    5-9 Yrs   \n",
       "4                 World Wide Technology    3-8 Yrs   \n",
       "5     NEC CORPORATION INDIA PRIVATE LTD   9-14 Yrs   \n",
       "6     NEC CORPORATION INDIA PRIVATE LTD   9-14 Yrs   \n",
       "7     NEC CORPORATION INDIA PRIVATE LTD   9-14 Yrs   \n",
       "8     NEC CORPORATION INDIA PRIVATE LTD   9-14 Yrs   \n",
       "9                      Stark Industries    3-5 Yrs   \n",
       "10          BA Continuum India Pvt. Ltd  14-17 Yrs   \n",
       "11       Myfuture Placement Consultancy    1-2 Yrs   \n",
       "12      KNOWLEDGE EXCEL PRIVATE LIMITED    1-3 Yrs   \n",
       "13  Imbibe Consultancy Services Pvt Ltd   6-10 Yrs   \n",
       "14                    tech mahindra ltd    3-8 Yrs   \n",
       "15                            Delhivery    1-3 Yrs   \n",
       "16          HyreFox Consultants Pvt Ltd    3-5 Yrs   \n",
       "17          HyreFox Consultants Pvt Ltd    1-3 Yrs   \n",
       "18            GABA Consultancy services    0-0 Yrs   \n",
       "19                                iNICU    1-5 Yrs   \n",
       "\n",
       "                                   Location                    Salary  \n",
       "0           Delhi NCR, Bengaluru, Hyderabad   3,50,000 - 8,50,000 PA.  \n",
       "1                                     Noida             Not disclosed  \n",
       "2           Delhi NCR, Greater Noida, Noida   2,25,000 - 4,75,000 PA.  \n",
       "3                                   Gurgaon             Not disclosed  \n",
       "4                                   Gurgaon             Not disclosed  \n",
       "5        Delhi NCR, Noida(Sector-142 Noida)             Not disclosed  \n",
       "6        Delhi NCR(Sector-142 Noida), Noida             Not disclosed  \n",
       "7        Delhi NCR, Noida(Sector-142 Noida)             Not disclosed  \n",
       "8        Delhi NCR(Sector-142 Noida), Noida             Not disclosed  \n",
       "9                                     Delhi             Not disclosed  \n",
       "10  Gandhinagar, Delhi NCR, Mumbai, Gurgaon             Not disclosed  \n",
       "11                                Delhi NCR   2,00,000 - 3,00,000 PA.  \n",
       "12    Delhi NCR(Patparganj Industrial Area)             Not disclosed  \n",
       "13          Delhi NCR, Bengaluru, Hyderabad  5,00,000 - 15,00,000 PA.  \n",
       "14                         Hyderabad, Noida             Not disclosed  \n",
       "15                                  Gurgaon             Not disclosed  \n",
       "16                                  Gurgaon             Not disclosed  \n",
       "17                                  Gurgaon             Not disclosed  \n",
       "18                Delhi NCR, Noida, Gurgaon   2,25,000 - 4,75,000 PA.  \n",
       "19                                    Delhi             Not disclosed  "
      ]
     },
     "execution_count": 14,
     "metadata": {},
     "output_type": "execute_result"
    }
   ],
   "source": [
    "jobs"
   ]
  },
  {
   "cell_type": "markdown",
   "metadata": {},
   "source": [
    "Q4: Write a python program to scrape data for first 10 job results for Data scientist Designation in Noida location. You have to scrape company_name, No. of days ago when job was posted, Rating of the company."
   ]
  },
  {
   "cell_type": "code",
   "execution_count": 32,
   "metadata": {},
   "outputs": [],
   "source": [
    "driver=webdriver.Chrome(r'C:\\chromedriver.exe')"
   ]
  },
  {
   "cell_type": "code",
   "execution_count": 33,
   "metadata": {},
   "outputs": [],
   "source": [
    "url='https://www.glassdoor.co.in/Job/noida-data-scientist-jobs-SRCH_IL.0,5_IC4477468_KO6,20.htm'"
   ]
  },
  {
   "cell_type": "code",
   "execution_count": 34,
   "metadata": {},
   "outputs": [],
   "source": [
    "driver.get(url)"
   ]
  },
  {
   "cell_type": "code",
   "execution_count": 35,
   "metadata": {},
   "outputs": [],
   "source": [
    "company_list=[]\n",
    "job_posted_list=[]\n",
    "job_rating_list=[]"
   ]
  },
  {
   "cell_type": "code",
   "execution_count": 36,
   "metadata": {},
   "outputs": [
    {
     "data": {
      "text/plain": [
       "[<selenium.webdriver.remote.webelement.WebElement (session=\"197430854e9ca5e21a13226cf3c299a3\", element=\"0cd70e15-2402-4f5f-98ed-ef3c95c99fb7\")>,\n",
       " <selenium.webdriver.remote.webelement.WebElement (session=\"197430854e9ca5e21a13226cf3c299a3\", element=\"46aeec88-b335-432f-8f53-8feb0298739d\")>,\n",
       " <selenium.webdriver.remote.webelement.WebElement (session=\"197430854e9ca5e21a13226cf3c299a3\", element=\"db74f411-90c8-4099-b764-786a0eaba648\")>,\n",
       " <selenium.webdriver.remote.webelement.WebElement (session=\"197430854e9ca5e21a13226cf3c299a3\", element=\"edd5f264-c90b-4130-a469-29abc6783305\")>,\n",
       " <selenium.webdriver.remote.webelement.WebElement (session=\"197430854e9ca5e21a13226cf3c299a3\", element=\"f125e678-f760-4660-a919-cd24d1c8085e\")>,\n",
       " <selenium.webdriver.remote.webelement.WebElement (session=\"197430854e9ca5e21a13226cf3c299a3\", element=\"89c64c7a-0d9d-4a74-b3fa-f187783587c9\")>,\n",
       " <selenium.webdriver.remote.webelement.WebElement (session=\"197430854e9ca5e21a13226cf3c299a3\", element=\"3aa0ed4e-6634-4559-a977-9ec62e4e8825\")>,\n",
       " <selenium.webdriver.remote.webelement.WebElement (session=\"197430854e9ca5e21a13226cf3c299a3\", element=\"32adedeb-336c-46f7-83a2-87fedf4f9112\")>,\n",
       " <selenium.webdriver.remote.webelement.WebElement (session=\"197430854e9ca5e21a13226cf3c299a3\", element=\"3c5c6f67-8884-4511-b6f0-d9551f7cfde6\")>,\n",
       " <selenium.webdriver.remote.webelement.WebElement (session=\"197430854e9ca5e21a13226cf3c299a3\", element=\"c1504320-9207-4ddb-b791-4b1f8fff3473\")>]"
      ]
     },
     "execution_count": 36,
     "metadata": {},
     "output_type": "execute_result"
    }
   ],
   "source": [
    "name_tags=driver.find_elements_by_xpath('//a[@class=\" css-10l5u4p e1n63ojh0 jobLink\"]/span[1]')[0:10]\n",
    "name_tags[0:10]"
   ]
  },
  {
   "cell_type": "code",
   "execution_count": 37,
   "metadata": {},
   "outputs": [
    {
     "data": {
      "text/plain": [
       "['Genpact',\n",
       " 'IHS Markit',\n",
       " 'MARKTECH CONSULTANCY',\n",
       " 'GroundTruth',\n",
       " 'Techlive',\n",
       " 'Algoscale',\n",
       " 'Gauge Data Solutions',\n",
       " 'Ank Aha',\n",
       " 'Mahajan Imaging',\n",
       " 'Clinton Health Access Initiative']"
      ]
     },
     "execution_count": 37,
     "metadata": {},
     "output_type": "execute_result"
    }
   ],
   "source": [
    "for i in name_tags:\n",
    "    title=i.text\n",
    "    company_list.append(title)\n",
    "company_list[0:10]"
   ]
  },
  {
   "cell_type": "code",
   "execution_count": 39,
   "metadata": {},
   "outputs": [
    {
     "data": {
      "text/plain": [
       "[<selenium.webdriver.remote.webelement.WebElement (session=\"197430854e9ca5e21a13226cf3c299a3\", element=\"4debd970-fe51-439d-8277-dfd2b55d89e0\")>,\n",
       " <selenium.webdriver.remote.webelement.WebElement (session=\"197430854e9ca5e21a13226cf3c299a3\", element=\"13cd4ad0-48c5-4461-b53d-ed8fef99dd34\")>,\n",
       " <selenium.webdriver.remote.webelement.WebElement (session=\"197430854e9ca5e21a13226cf3c299a3\", element=\"d2f3184b-9a06-4ae5-b97c-691f8443771a\")>,\n",
       " <selenium.webdriver.remote.webelement.WebElement (session=\"197430854e9ca5e21a13226cf3c299a3\", element=\"82475385-ee94-4140-b825-e8ab72fc7775\")>,\n",
       " <selenium.webdriver.remote.webelement.WebElement (session=\"197430854e9ca5e21a13226cf3c299a3\", element=\"fd38d9a2-8a53-415e-b664-16e55fa5cbd7\")>,\n",
       " <selenium.webdriver.remote.webelement.WebElement (session=\"197430854e9ca5e21a13226cf3c299a3\", element=\"b2b7b5a8-14c7-47d2-b550-fc70cd05e5ce\")>,\n",
       " <selenium.webdriver.remote.webelement.WebElement (session=\"197430854e9ca5e21a13226cf3c299a3\", element=\"84e04e7b-fbcf-41fa-b95a-42d99a1b6aa8\")>,\n",
       " <selenium.webdriver.remote.webelement.WebElement (session=\"197430854e9ca5e21a13226cf3c299a3\", element=\"1c47b33d-bbee-4db3-bb4f-71089e22d97c\")>,\n",
       " <selenium.webdriver.remote.webelement.WebElement (session=\"197430854e9ca5e21a13226cf3c299a3\", element=\"cf987300-470f-4d56-9ee3-0ad537ffaa71\")>,\n",
       " <selenium.webdriver.remote.webelement.WebElement (session=\"197430854e9ca5e21a13226cf3c299a3\", element=\"511fd13c-ad6e-4484-a7af-688881999381\")>]"
      ]
     },
     "execution_count": 39,
     "metadata": {},
     "output_type": "execute_result"
    }
   ],
   "source": [
    "posted_tags=driver.find_elements_by_xpath('//div[@class=\"d-flex align-items-end pl-std css-mi55ob\"]')[0:10]\n",
    "posted_tags[0:10]"
   ]
  },
  {
   "cell_type": "code",
   "execution_count": 40,
   "metadata": {},
   "outputs": [
    {
     "data": {
      "text/plain": [
       "['24h', '8d', '5d', '21d', '6d', '28d', '28d', '24h', '24h', '24h']"
      ]
     },
     "execution_count": 40,
     "metadata": {},
     "output_type": "execute_result"
    }
   ],
   "source": [
    "for i in posted_tags:\n",
    "    job_age=i.text\n",
    "    job_posted_list.append(job_age)\n",
    "job_posted_list[0:10]"
   ]
  },
  {
   "cell_type": "code",
   "execution_count": 41,
   "metadata": {},
   "outputs": [
    {
     "data": {
      "text/plain": [
       "[<selenium.webdriver.remote.webelement.WebElement (session=\"197430854e9ca5e21a13226cf3c299a3\", element=\"28601cf0-ccdf-442e-a6ad-815bf50615ce\")>,\n",
       " <selenium.webdriver.remote.webelement.WebElement (session=\"197430854e9ca5e21a13226cf3c299a3\", element=\"b43731c4-551f-4c69-a2d6-dbc3aab47800\")>,\n",
       " <selenium.webdriver.remote.webelement.WebElement (session=\"197430854e9ca5e21a13226cf3c299a3\", element=\"81d510dd-40aa-4952-bf18-a79f92d365a5\")>,\n",
       " <selenium.webdriver.remote.webelement.WebElement (session=\"197430854e9ca5e21a13226cf3c299a3\", element=\"13bfcc11-17c8-45ba-90cd-d5e1c3d23a93\")>,\n",
       " <selenium.webdriver.remote.webelement.WebElement (session=\"197430854e9ca5e21a13226cf3c299a3\", element=\"fefb566e-07f8-49af-a9af-8fd214bf4d21\")>,\n",
       " <selenium.webdriver.remote.webelement.WebElement (session=\"197430854e9ca5e21a13226cf3c299a3\", element=\"3f05a6c7-00a9-4920-8f2a-ec776ce1757f\")>,\n",
       " <selenium.webdriver.remote.webelement.WebElement (session=\"197430854e9ca5e21a13226cf3c299a3\", element=\"4de51c36-7fc6-405b-b7c4-e8f0c87896b0\")>,\n",
       " <selenium.webdriver.remote.webelement.WebElement (session=\"197430854e9ca5e21a13226cf3c299a3\", element=\"da97ae48-090b-4c38-962e-63c4e7b5dfed\")>,\n",
       " <selenium.webdriver.remote.webelement.WebElement (session=\"197430854e9ca5e21a13226cf3c299a3\", element=\"94b177d2-99fc-4581-90ad-674f3fd30256\")>,\n",
       " <selenium.webdriver.remote.webelement.WebElement (session=\"197430854e9ca5e21a13226cf3c299a3\", element=\"3e68e3e3-dc3b-44cc-b939-92403bb1eadc\")>]"
      ]
     },
     "execution_count": 41,
     "metadata": {},
     "output_type": "execute_result"
    }
   ],
   "source": [
    "rating_list=driver.find_elements_by_xpath('//span[@class=\"compactStars \"]')[0:10]\n",
    "rating_list[0:10]"
   ]
  },
  {
   "cell_type": "code",
   "execution_count": 42,
   "metadata": {},
   "outputs": [
    {
     "data": {
      "text/plain": [
       "['3.8', '4.1', '3.3', '5', '3.7', '3.1', '4.1', '4', '3.9', '4.5']"
      ]
     },
     "execution_count": 42,
     "metadata": {},
     "output_type": "execute_result"
    }
   ],
   "source": [
    "for i in rating_list:\n",
    "    ratings=i.text\n",
    "    job_rating_list.append(ratings)\n",
    "job_rating_list[0:10]"
   ]
  },
  {
   "cell_type": "code",
   "execution_count": 43,
   "metadata": {},
   "outputs": [
    {
     "name": "stdout",
     "output_type": "stream",
     "text": [
      "10 10 10\n"
     ]
    }
   ],
   "source": [
    "print(len(company_list),len(job_posted_list),len(job_rating_list))"
   ]
  },
  {
   "cell_type": "code",
   "execution_count": 44,
   "metadata": {
    "scrolled": true
   },
   "outputs": [],
   "source": [
    "jobs=pd.DataFrame({})\n",
    "jobs['Name_of_Company']=company_list\n",
    "jobs['No. of days ago when job was posted']=job_posted_list\n",
    "jobs['Rating of the company']=job_rating_list"
   ]
  },
  {
   "cell_type": "code",
   "execution_count": 45,
   "metadata": {},
   "outputs": [
    {
     "data": {
      "text/html": [
       "<div>\n",
       "<style scoped>\n",
       "    .dataframe tbody tr th:only-of-type {\n",
       "        vertical-align: middle;\n",
       "    }\n",
       "\n",
       "    .dataframe tbody tr th {\n",
       "        vertical-align: top;\n",
       "    }\n",
       "\n",
       "    .dataframe thead th {\n",
       "        text-align: right;\n",
       "    }\n",
       "</style>\n",
       "<table border=\"1\" class=\"dataframe\">\n",
       "  <thead>\n",
       "    <tr style=\"text-align: right;\">\n",
       "      <th></th>\n",
       "      <th>Name_of_Company</th>\n",
       "      <th>No. of days ago when job was posted</th>\n",
       "      <th>Rating of the company</th>\n",
       "    </tr>\n",
       "  </thead>\n",
       "  <tbody>\n",
       "    <tr>\n",
       "      <th>0</th>\n",
       "      <td>Genpact</td>\n",
       "      <td>24h</td>\n",
       "      <td>3.8</td>\n",
       "    </tr>\n",
       "    <tr>\n",
       "      <th>1</th>\n",
       "      <td>IHS Markit</td>\n",
       "      <td>8d</td>\n",
       "      <td>4.1</td>\n",
       "    </tr>\n",
       "    <tr>\n",
       "      <th>2</th>\n",
       "      <td>MARKTECH CONSULTANCY</td>\n",
       "      <td>5d</td>\n",
       "      <td>3.3</td>\n",
       "    </tr>\n",
       "    <tr>\n",
       "      <th>3</th>\n",
       "      <td>GroundTruth</td>\n",
       "      <td>21d</td>\n",
       "      <td>5</td>\n",
       "    </tr>\n",
       "    <tr>\n",
       "      <th>4</th>\n",
       "      <td>Techlive</td>\n",
       "      <td>6d</td>\n",
       "      <td>3.7</td>\n",
       "    </tr>\n",
       "    <tr>\n",
       "      <th>5</th>\n",
       "      <td>Algoscale</td>\n",
       "      <td>28d</td>\n",
       "      <td>3.1</td>\n",
       "    </tr>\n",
       "    <tr>\n",
       "      <th>6</th>\n",
       "      <td>Gauge Data Solutions</td>\n",
       "      <td>28d</td>\n",
       "      <td>4.1</td>\n",
       "    </tr>\n",
       "    <tr>\n",
       "      <th>7</th>\n",
       "      <td>Ank Aha</td>\n",
       "      <td>24h</td>\n",
       "      <td>4</td>\n",
       "    </tr>\n",
       "    <tr>\n",
       "      <th>8</th>\n",
       "      <td>Mahajan Imaging</td>\n",
       "      <td>24h</td>\n",
       "      <td>3.9</td>\n",
       "    </tr>\n",
       "    <tr>\n",
       "      <th>9</th>\n",
       "      <td>Clinton Health Access Initiative</td>\n",
       "      <td>24h</td>\n",
       "      <td>4.5</td>\n",
       "    </tr>\n",
       "  </tbody>\n",
       "</table>\n",
       "</div>"
      ],
      "text/plain": [
       "                    Name_of_Company No. of days ago when job was posted  \\\n",
       "0                           Genpact                                 24h   \n",
       "1                        IHS Markit                                  8d   \n",
       "2              MARKTECH CONSULTANCY                                  5d   \n",
       "3                       GroundTruth                                 21d   \n",
       "4                          Techlive                                  6d   \n",
       "5                         Algoscale                                 28d   \n",
       "6              Gauge Data Solutions                                 28d   \n",
       "7                           Ank Aha                                 24h   \n",
       "8                   Mahajan Imaging                                 24h   \n",
       "9  Clinton Health Access Initiative                                 24h   \n",
       "\n",
       "  Rating of the company  \n",
       "0                   3.8  \n",
       "1                   4.1  \n",
       "2                   3.3  \n",
       "3                     5  \n",
       "4                   3.7  \n",
       "5                   3.1  \n",
       "6                   4.1  \n",
       "7                     4  \n",
       "8                   3.9  \n",
       "9                   4.5  "
      ]
     },
     "execution_count": 45,
     "metadata": {},
     "output_type": "execute_result"
    }
   ],
   "source": [
    "jobs"
   ]
  },
  {
   "cell_type": "markdown",
   "metadata": {},
   "source": [
    "Q5: Write a python program to scrape the salary data for Data Scientist designation in Noida location.\n",
    "You have to scrape Company name, Number of salaries, Average salary, Min salary, Max Salary."
   ]
  },
  {
   "cell_type": "code",
   "execution_count": 70,
   "metadata": {},
   "outputs": [],
   "source": [
    "url=driver=webdriver.Chrome(r'C:\\chromedriver.exe')"
   ]
  },
  {
   "cell_type": "code",
   "execution_count": 71,
   "metadata": {},
   "outputs": [],
   "source": [
    "url='https://www.glassdoor.co.in/Job/noida-data-scientist-jobs-SRCH_IL.0,5_IC4477468_KO6,20.htm'"
   ]
  },
  {
   "cell_type": "code",
   "execution_count": 72,
   "metadata": {},
   "outputs": [],
   "source": [
    "driver.get(url)"
   ]
  },
  {
   "cell_type": "code",
   "execution_count": 73,
   "metadata": {},
   "outputs": [],
   "source": [
    "company_list=[]\n",
    "salary_list=[]\n",
    "avg_salary_list=[]\n",
    "min_salary_list=[]\n",
    "max_salary_list=[]"
   ]
  },
  {
   "cell_type": "code",
   "execution_count": 74,
   "metadata": {},
   "outputs": [
    {
     "data": {
      "text/plain": [
       "['ANI Calls India Private Limited',\n",
       " 'Biz2Credit Inc',\n",
       " 'Microsoft',\n",
       " 'WSD Consultant',\n",
       " 'SearchUrCollege',\n",
       " 'xtLytics',\n",
       " 'MARKTECH CONSULTANCY',\n",
       " 'Applicate IT Solutions Pvt. Ltd.',\n",
       " 'Techlive',\n",
       " 'Vidooly']"
      ]
     },
     "execution_count": 74,
     "metadata": {},
     "output_type": "execute_result"
    }
   ],
   "source": [
    "name_tags=driver.find_elements_by_xpath('//a[@class=\" css-10l5u4p e1n63ojh0 jobLink\"]/span[1]')[0:10]\n",
    "for i in name_tags:\n",
    "    title=i.text\n",
    "    company_list.append(title)\n",
    "company_list[0:10]"
   ]
  },
  {
   "cell_type": "markdown",
   "metadata": {},
   "source": [
    "Q6 : Scrape data of first 100 sunglasses listings on flipkart.com. You have to scrape four attributes:\n",
    "1. Brand\n",
    "2. Product Description\n",
    "3. Price\n",
    "4. Discount %"
   ]
  },
  {
   "cell_type": "code",
   "execution_count": 148,
   "metadata": {},
   "outputs": [],
   "source": [
    "import selenium\n",
    "import pandas as pd"
   ]
  },
  {
   "cell_type": "code",
   "execution_count": 149,
   "metadata": {},
   "outputs": [],
   "source": [
    "from selenium import webdriver"
   ]
  },
  {
   "cell_type": "code",
   "execution_count": 150,
   "metadata": {},
   "outputs": [],
   "source": [
    "driver=webdriver.Chrome(r'C:\\chromedriver.exe')"
   ]
  },
  {
   "cell_type": "code",
   "execution_count": 151,
   "metadata": {},
   "outputs": [],
   "source": [
    "#specifying the url to be scrapped\n",
    "url=\"https://www.flipkart.com/search?q=sunglasses&otracker=search&otracker1=search&marketplace=FLIPKART&as-show=on&as=off&as-pos=1&as-type=HISTORY\""
   ]
  },
  {
   "cell_type": "code",
   "execution_count": 152,
   "metadata": {},
   "outputs": [],
   "source": [
    "driver.get(url)"
   ]
  },
  {
   "cell_type": "code",
   "execution_count": 170,
   "metadata": {},
   "outputs": [],
   "source": [
    "brand_list=[]\n",
    "product_description=[]\n",
    "price_list=[]\n",
    "discount_list=[]"
   ]
  },
  {
   "cell_type": "code",
   "execution_count": 171,
   "metadata": {
    "scrolled": true
   },
   "outputs": [
    {
     "data": {
      "text/plain": [
       "['Royal Son',\n",
       " 'ROYAL SON',\n",
       " 'FDA COLLECTION',\n",
       " 'FDA COLLECTION',\n",
       " 'Phenomenal',\n",
       " 'Rozzetta Craft',\n",
       " 'Dannilo',\n",
       " 'STYLE GURU',\n",
       " 'shah collections',\n",
       " 'ROZZETTA CRAFT',\n",
       " 'JOHAENA',\n",
       " 'Gansta',\n",
       " 'FDA COLLECTION',\n",
       " 'Winsome',\n",
       " 'Fastrack',\n",
       " 'Royal Son',\n",
       " 'Phenomenal',\n",
       " 'funglasses',\n",
       " 'Mode',\n",
       " 'Gansta',\n",
       " 'shah collections',\n",
       " 'Fastrack',\n",
       " 'ROZZETTA CRAFT',\n",
       " 'Royal Son',\n",
       " 'Riffko',\n",
       " 'Riffko',\n",
       " 'Trendy Glasses',\n",
       " 'Specsmakers',\n",
       " 'PIRASO',\n",
       " 'Phenomenal',\n",
       " 'funglasses',\n",
       " 'hipe',\n",
       " 'kingscape',\n",
       " 'Singco India',\n",
       " 'LOPO',\n",
       " 'Specsmakers',\n",
       " 'Dannilo',\n",
       " 'shadz',\n",
       " 'Singco India',\n",
       " 'Royal Son']"
      ]
     },
     "execution_count": 171,
     "metadata": {},
     "output_type": "execute_result"
    }
   ],
   "source": [
    "name_tags=driver.find_elements_by_xpath('//div[@class=\"_2WkVRV\"]')[0:100]\n",
    "for i in name_tags:\n",
    "    brand=i.text\n",
    "    brand_list.append(brand)\n",
    "brand_list[0:100]"
   ]
  },
  {
   "cell_type": "code",
   "execution_count": 172,
   "metadata": {},
   "outputs": [
    {
     "data": {
      "text/plain": [
       "['UV Protection Retro Square Sunglasses (49)',\n",
       " 'UV Protection Retro Square Sunglasses (88)',\n",
       " 'Gradient, Mirrored, UV Protection Round, Round, Round S...',\n",
       " 'Gradient, Mirrored, UV Protection Round, Round, Round S...',\n",
       " 'UV Protection, Mirrored Retro Square Sunglasses (53)',\n",
       " 'UV Protection Rectangular Sunglasses (Free Size)',\n",
       " 'Gradient, UV Protection, Others Aviator Sunglasses (Fre...',\n",
       " 'UV Protection Aviator Sunglasses (Free Size)',\n",
       " 'UV Protection Round Sunglasses (Free Size)',\n",
       " 'UV Protection Retro Square Sunglasses (Free Size)',\n",
       " 'Riding Glasses, UV Protection Oval Sunglasses (52)',\n",
       " 'UV Protection, Mirrored Aviator Sunglasses (55)',\n",
       " 'Gradient, Mirrored, UV Protection, Polarized Round, Rou...',\n",
       " 'UV Protection Round Sunglasses (54)',\n",
       " 'UV Protection Wayfarer Sunglasses (Free Size)',\n",
       " 'Gradient, UV Protection Round, Oval, Cat-eye Sunglasses...',\n",
       " 'UV Protection Retro Square Sunglasses (Free Size)',\n",
       " 'UV Protection, Night Vision, Riding Glasses Round Sungl...',\n",
       " 'UV Protection Aviator Sunglasses (Free Size)',\n",
       " 'UV Protection, Night Vision, Riding Glasses Aviator Sun...',\n",
       " 'UV Protection Round Sunglasses (Free Size)',\n",
       " 'Gradient, UV Protection Wayfarer Sunglasses (Free Size)',\n",
       " 'UV Protection, Gradient Rectangular Sunglasses (Free Si...',\n",
       " 'Mirrored Aviator Sunglasses (55)',\n",
       " 'UV Protection Wayfarer Sunglasses (55)',\n",
       " 'UV Protection Round Sunglasses (55)',\n",
       " 'UV Protection, Night Vision Retro Square Sunglasses (Fr...',\n",
       " 'Mirrored Round Sunglasses (52)',\n",
       " 'UV Protection Aviator Sunglasses (58)',\n",
       " 'Polarized, UV Protection, Gradient Rectangular Sunglass...',\n",
       " 'Riding Glasses, Night Vision Round, Round Sunglasses (5...',\n",
       " 'UV Protection, Mirrored, Night Vision, Gradient, Riding...',\n",
       " 'UV Protection Round Sunglasses (Free Size)',\n",
       " 'UV Protection Round Sunglasses (Free Size)',\n",
       " 'Polarized, Mirrored, UV Protection Retro Square, Over-s...',\n",
       " 'Polarized Wayfarer Sunglasses (53)',\n",
       " 'Mirrored Wayfarer Sunglasses (Free Size)',\n",
       " 'UV Protection, Polarized Retro Square Sunglasses (59)',\n",
       " 'UV Protection, Polarized Aviator Sunglasses (Free Size)',\n",
       " 'Polarized, UV Protection Rectangular Sunglasses (59)']"
      ]
     },
     "execution_count": 172,
     "metadata": {},
     "output_type": "execute_result"
    }
   ],
   "source": [
    "desc_tags=driver.find_elements_by_xpath('//div[@class=\"_2B099V\"]/a[1]')\n",
    "for i in desc_tags:\n",
    "    desc=i.text\n",
    "    product_description.append(desc)\n",
    "product_description"
   ]
  },
  {
   "cell_type": "code",
   "execution_count": 173,
   "metadata": {},
   "outputs": [
    {
     "name": "stdout",
     "output_type": "stream",
     "text": [
      "40\n"
     ]
    }
   ],
   "source": [
    "print(len(product_description))"
   ]
  },
  {
   "cell_type": "code",
   "execution_count": 174,
   "metadata": {
    "scrolled": true
   },
   "outputs": [
    {
     "data": {
      "text/plain": [
       "['₹699',\n",
       " '₹599',\n",
       " '₹210',\n",
       " '₹210',\n",
       " '₹399',\n",
       " '₹398',\n",
       " '₹233',\n",
       " '₹799',\n",
       " '₹331',\n",
       " '₹449',\n",
       " '₹171',\n",
       " '₹289',\n",
       " '₹175',\n",
       " '₹172',\n",
       " '₹759',\n",
       " '₹699',\n",
       " '₹399',\n",
       " '₹161',\n",
       " '₹109',\n",
       " '₹268',\n",
       " '₹312',\n",
       " '₹645',\n",
       " '₹449',\n",
       " '₹399',\n",
       " '₹189',\n",
       " '₹175',\n",
       " '₹249',\n",
       " '₹495',\n",
       " '₹349',\n",
       " '₹299',\n",
       " '₹160',\n",
       " '₹185',\n",
       " '₹309',\n",
       " '₹175',\n",
       " '₹119',\n",
       " '₹696',\n",
       " '₹236',\n",
       " '₹299',\n",
       " '₹189',\n",
       " '₹699']"
      ]
     },
     "execution_count": 174,
     "metadata": {},
     "output_type": "execute_result"
    }
   ],
   "source": [
    "price_tags=driver.find_elements_by_xpath('//div[@class=\"_30jeq3\"]')[0:100]\n",
    "for i in price_tags:\n",
    "    price=i.text\n",
    "    price_list.append(price)\n",
    "price_list"
   ]
  },
  {
   "cell_type": "code",
   "execution_count": 175,
   "metadata": {},
   "outputs": [
    {
     "name": "stdout",
     "output_type": "stream",
     "text": [
      "40\n"
     ]
    }
   ],
   "source": [
    "print(len(price_tags))"
   ]
  },
  {
   "cell_type": "code",
   "execution_count": 176,
   "metadata": {
    "scrolled": true
   },
   "outputs": [
    {
     "data": {
      "text/plain": [
       "['65% off',\n",
       " '70% off',\n",
       " '83% off',\n",
       " '85% off',\n",
       " '80% off',\n",
       " '73% off',\n",
       " '80% off',\n",
       " '77% off',\n",
       " '80% off',\n",
       " '79% off',\n",
       " '86% off',\n",
       " '80% off',\n",
       " '82% off',\n",
       " '82% off',\n",
       " '15% off',\n",
       " '53% off',\n",
       " '80% off',\n",
       " '83% off',\n",
       " '84% off',\n",
       " '79% off',\n",
       " '75% off',\n",
       " '19% off',\n",
       " '77% off',\n",
       " '73% off',\n",
       " '84% off',\n",
       " '82% off',\n",
       " '86% off',\n",
       " '50% off',\n",
       " '86% off',\n",
       " '85% off',\n",
       " '83% off',\n",
       " '86% off',\n",
       " '80% off',\n",
       " '82% off',\n",
       " '82% off',\n",
       " '65% off',\n",
       " '76% off',\n",
       " '76% off',\n",
       " '72% off',\n",
       " '53% off']"
      ]
     },
     "execution_count": 176,
     "metadata": {},
     "output_type": "execute_result"
    }
   ],
   "source": [
    "discount_tags=driver.find_elements_by_xpath('//div[@class=\"_2B099V\"]/a[2]/div/div[3]')\n",
    "for i in discount_tags:\n",
    "    discount=i.text\n",
    "    discount_list.append(discount)\n",
    "discount_list"
   ]
  },
  {
   "cell_type": "code",
   "execution_count": 177,
   "metadata": {},
   "outputs": [
    {
     "name": "stdout",
     "output_type": "stream",
     "text": [
      "40 40 40\n"
     ]
    }
   ],
   "source": [
    "print(len(product_description),len(price_list),len(discount_list))"
   ]
  },
  {
   "cell_type": "code",
   "execution_count": 180,
   "metadata": {},
   "outputs": [],
   "source": [
    "jobs=pd.DataFrame({})\n",
    "jobs['Brand']=brand_list\n",
    "jobs['Description']=product_description\n",
    "jobs['Price']=price_list\n",
    "jobs['Discount']=discount_list"
   ]
  },
  {
   "cell_type": "code",
   "execution_count": 181,
   "metadata": {},
   "outputs": [
    {
     "data": {
      "text/html": [
       "<div>\n",
       "<style scoped>\n",
       "    .dataframe tbody tr th:only-of-type {\n",
       "        vertical-align: middle;\n",
       "    }\n",
       "\n",
       "    .dataframe tbody tr th {\n",
       "        vertical-align: top;\n",
       "    }\n",
       "\n",
       "    .dataframe thead th {\n",
       "        text-align: right;\n",
       "    }\n",
       "</style>\n",
       "<table border=\"1\" class=\"dataframe\">\n",
       "  <thead>\n",
       "    <tr style=\"text-align: right;\">\n",
       "      <th></th>\n",
       "      <th>Brand</th>\n",
       "      <th>Description</th>\n",
       "      <th>Price</th>\n",
       "      <th>Discount</th>\n",
       "    </tr>\n",
       "  </thead>\n",
       "  <tbody>\n",
       "    <tr>\n",
       "      <th>0</th>\n",
       "      <td>Royal Son</td>\n",
       "      <td>UV Protection Retro Square Sunglasses (49)</td>\n",
       "      <td>₹699</td>\n",
       "      <td>65% off</td>\n",
       "    </tr>\n",
       "    <tr>\n",
       "      <th>1</th>\n",
       "      <td>ROYAL SON</td>\n",
       "      <td>UV Protection Retro Square Sunglasses (88)</td>\n",
       "      <td>₹599</td>\n",
       "      <td>70% off</td>\n",
       "    </tr>\n",
       "    <tr>\n",
       "      <th>2</th>\n",
       "      <td>FDA COLLECTION</td>\n",
       "      <td>Gradient, Mirrored, UV Protection Round, Round...</td>\n",
       "      <td>₹210</td>\n",
       "      <td>83% off</td>\n",
       "    </tr>\n",
       "    <tr>\n",
       "      <th>3</th>\n",
       "      <td>FDA COLLECTION</td>\n",
       "      <td>Gradient, Mirrored, UV Protection Round, Round...</td>\n",
       "      <td>₹210</td>\n",
       "      <td>85% off</td>\n",
       "    </tr>\n",
       "    <tr>\n",
       "      <th>4</th>\n",
       "      <td>Phenomenal</td>\n",
       "      <td>UV Protection, Mirrored Retro Square Sunglasse...</td>\n",
       "      <td>₹399</td>\n",
       "      <td>80% off</td>\n",
       "    </tr>\n",
       "    <tr>\n",
       "      <th>5</th>\n",
       "      <td>Rozzetta Craft</td>\n",
       "      <td>UV Protection Rectangular Sunglasses (Free Size)</td>\n",
       "      <td>₹398</td>\n",
       "      <td>73% off</td>\n",
       "    </tr>\n",
       "    <tr>\n",
       "      <th>6</th>\n",
       "      <td>Dannilo</td>\n",
       "      <td>Gradient, UV Protection, Others Aviator Sungla...</td>\n",
       "      <td>₹233</td>\n",
       "      <td>80% off</td>\n",
       "    </tr>\n",
       "    <tr>\n",
       "      <th>7</th>\n",
       "      <td>STYLE GURU</td>\n",
       "      <td>UV Protection Aviator Sunglasses (Free Size)</td>\n",
       "      <td>₹799</td>\n",
       "      <td>77% off</td>\n",
       "    </tr>\n",
       "    <tr>\n",
       "      <th>8</th>\n",
       "      <td>shah collections</td>\n",
       "      <td>UV Protection Round Sunglasses (Free Size)</td>\n",
       "      <td>₹331</td>\n",
       "      <td>80% off</td>\n",
       "    </tr>\n",
       "    <tr>\n",
       "      <th>9</th>\n",
       "      <td>ROZZETTA CRAFT</td>\n",
       "      <td>UV Protection Retro Square Sunglasses (Free Size)</td>\n",
       "      <td>₹449</td>\n",
       "      <td>79% off</td>\n",
       "    </tr>\n",
       "    <tr>\n",
       "      <th>10</th>\n",
       "      <td>JOHAENA</td>\n",
       "      <td>Riding Glasses, UV Protection Oval Sunglasses ...</td>\n",
       "      <td>₹171</td>\n",
       "      <td>86% off</td>\n",
       "    </tr>\n",
       "    <tr>\n",
       "      <th>11</th>\n",
       "      <td>Gansta</td>\n",
       "      <td>UV Protection, Mirrored Aviator Sunglasses (55)</td>\n",
       "      <td>₹289</td>\n",
       "      <td>80% off</td>\n",
       "    </tr>\n",
       "    <tr>\n",
       "      <th>12</th>\n",
       "      <td>FDA COLLECTION</td>\n",
       "      <td>Gradient, Mirrored, UV Protection, Polarized R...</td>\n",
       "      <td>₹175</td>\n",
       "      <td>82% off</td>\n",
       "    </tr>\n",
       "    <tr>\n",
       "      <th>13</th>\n",
       "      <td>Winsome</td>\n",
       "      <td>UV Protection Round Sunglasses (54)</td>\n",
       "      <td>₹172</td>\n",
       "      <td>82% off</td>\n",
       "    </tr>\n",
       "    <tr>\n",
       "      <th>14</th>\n",
       "      <td>Fastrack</td>\n",
       "      <td>UV Protection Wayfarer Sunglasses (Free Size)</td>\n",
       "      <td>₹759</td>\n",
       "      <td>15% off</td>\n",
       "    </tr>\n",
       "    <tr>\n",
       "      <th>15</th>\n",
       "      <td>Royal Son</td>\n",
       "      <td>Gradient, UV Protection Round, Oval, Cat-eye S...</td>\n",
       "      <td>₹699</td>\n",
       "      <td>53% off</td>\n",
       "    </tr>\n",
       "    <tr>\n",
       "      <th>16</th>\n",
       "      <td>Phenomenal</td>\n",
       "      <td>UV Protection Retro Square Sunglasses (Free Size)</td>\n",
       "      <td>₹399</td>\n",
       "      <td>80% off</td>\n",
       "    </tr>\n",
       "    <tr>\n",
       "      <th>17</th>\n",
       "      <td>funglasses</td>\n",
       "      <td>UV Protection, Night Vision, Riding Glasses Ro...</td>\n",
       "      <td>₹161</td>\n",
       "      <td>83% off</td>\n",
       "    </tr>\n",
       "    <tr>\n",
       "      <th>18</th>\n",
       "      <td>Mode</td>\n",
       "      <td>UV Protection Aviator Sunglasses (Free Size)</td>\n",
       "      <td>₹109</td>\n",
       "      <td>84% off</td>\n",
       "    </tr>\n",
       "    <tr>\n",
       "      <th>19</th>\n",
       "      <td>Gansta</td>\n",
       "      <td>UV Protection, Night Vision, Riding Glasses Av...</td>\n",
       "      <td>₹268</td>\n",
       "      <td>79% off</td>\n",
       "    </tr>\n",
       "    <tr>\n",
       "      <th>20</th>\n",
       "      <td>shah collections</td>\n",
       "      <td>UV Protection Round Sunglasses (Free Size)</td>\n",
       "      <td>₹312</td>\n",
       "      <td>75% off</td>\n",
       "    </tr>\n",
       "    <tr>\n",
       "      <th>21</th>\n",
       "      <td>Fastrack</td>\n",
       "      <td>Gradient, UV Protection Wayfarer Sunglasses (F...</td>\n",
       "      <td>₹645</td>\n",
       "      <td>19% off</td>\n",
       "    </tr>\n",
       "    <tr>\n",
       "      <th>22</th>\n",
       "      <td>ROZZETTA CRAFT</td>\n",
       "      <td>UV Protection, Gradient Rectangular Sunglasses...</td>\n",
       "      <td>₹449</td>\n",
       "      <td>77% off</td>\n",
       "    </tr>\n",
       "    <tr>\n",
       "      <th>23</th>\n",
       "      <td>Royal Son</td>\n",
       "      <td>Mirrored Aviator Sunglasses (55)</td>\n",
       "      <td>₹399</td>\n",
       "      <td>73% off</td>\n",
       "    </tr>\n",
       "    <tr>\n",
       "      <th>24</th>\n",
       "      <td>Riffko</td>\n",
       "      <td>UV Protection Wayfarer Sunglasses (55)</td>\n",
       "      <td>₹189</td>\n",
       "      <td>84% off</td>\n",
       "    </tr>\n",
       "    <tr>\n",
       "      <th>25</th>\n",
       "      <td>Riffko</td>\n",
       "      <td>UV Protection Round Sunglasses (55)</td>\n",
       "      <td>₹175</td>\n",
       "      <td>82% off</td>\n",
       "    </tr>\n",
       "    <tr>\n",
       "      <th>26</th>\n",
       "      <td>Trendy Glasses</td>\n",
       "      <td>UV Protection, Night Vision Retro Square Sungl...</td>\n",
       "      <td>₹249</td>\n",
       "      <td>86% off</td>\n",
       "    </tr>\n",
       "    <tr>\n",
       "      <th>27</th>\n",
       "      <td>Specsmakers</td>\n",
       "      <td>Mirrored Round Sunglasses (52)</td>\n",
       "      <td>₹495</td>\n",
       "      <td>50% off</td>\n",
       "    </tr>\n",
       "    <tr>\n",
       "      <th>28</th>\n",
       "      <td>PIRASO</td>\n",
       "      <td>UV Protection Aviator Sunglasses (58)</td>\n",
       "      <td>₹349</td>\n",
       "      <td>86% off</td>\n",
       "    </tr>\n",
       "    <tr>\n",
       "      <th>29</th>\n",
       "      <td>Phenomenal</td>\n",
       "      <td>Polarized, UV Protection, Gradient Rectangular...</td>\n",
       "      <td>₹299</td>\n",
       "      <td>85% off</td>\n",
       "    </tr>\n",
       "    <tr>\n",
       "      <th>30</th>\n",
       "      <td>funglasses</td>\n",
       "      <td>Riding Glasses, Night Vision Round, Round Sung...</td>\n",
       "      <td>₹160</td>\n",
       "      <td>83% off</td>\n",
       "    </tr>\n",
       "    <tr>\n",
       "      <th>31</th>\n",
       "      <td>hipe</td>\n",
       "      <td>UV Protection, Mirrored, Night Vision, Gradien...</td>\n",
       "      <td>₹185</td>\n",
       "      <td>86% off</td>\n",
       "    </tr>\n",
       "    <tr>\n",
       "      <th>32</th>\n",
       "      <td>kingscape</td>\n",
       "      <td>UV Protection Round Sunglasses (Free Size)</td>\n",
       "      <td>₹309</td>\n",
       "      <td>80% off</td>\n",
       "    </tr>\n",
       "    <tr>\n",
       "      <th>33</th>\n",
       "      <td>Singco India</td>\n",
       "      <td>UV Protection Round Sunglasses (Free Size)</td>\n",
       "      <td>₹175</td>\n",
       "      <td>82% off</td>\n",
       "    </tr>\n",
       "    <tr>\n",
       "      <th>34</th>\n",
       "      <td>LOPO</td>\n",
       "      <td>Polarized, Mirrored, UV Protection Retro Squar...</td>\n",
       "      <td>₹119</td>\n",
       "      <td>82% off</td>\n",
       "    </tr>\n",
       "    <tr>\n",
       "      <th>35</th>\n",
       "      <td>Specsmakers</td>\n",
       "      <td>Polarized Wayfarer Sunglasses (53)</td>\n",
       "      <td>₹696</td>\n",
       "      <td>65% off</td>\n",
       "    </tr>\n",
       "    <tr>\n",
       "      <th>36</th>\n",
       "      <td>Dannilo</td>\n",
       "      <td>Mirrored Wayfarer Sunglasses (Free Size)</td>\n",
       "      <td>₹236</td>\n",
       "      <td>76% off</td>\n",
       "    </tr>\n",
       "    <tr>\n",
       "      <th>37</th>\n",
       "      <td>shadz</td>\n",
       "      <td>UV Protection, Polarized Retro Square Sunglass...</td>\n",
       "      <td>₹299</td>\n",
       "      <td>76% off</td>\n",
       "    </tr>\n",
       "    <tr>\n",
       "      <th>38</th>\n",
       "      <td>Singco India</td>\n",
       "      <td>UV Protection, Polarized Aviator Sunglasses (F...</td>\n",
       "      <td>₹189</td>\n",
       "      <td>72% off</td>\n",
       "    </tr>\n",
       "    <tr>\n",
       "      <th>39</th>\n",
       "      <td>Royal Son</td>\n",
       "      <td>Polarized, UV Protection Rectangular Sunglasse...</td>\n",
       "      <td>₹699</td>\n",
       "      <td>53% off</td>\n",
       "    </tr>\n",
       "  </tbody>\n",
       "</table>\n",
       "</div>"
      ],
      "text/plain": [
       "               Brand                                        Description Price  \\\n",
       "0          Royal Son         UV Protection Retro Square Sunglasses (49)  ₹699   \n",
       "1          ROYAL SON         UV Protection Retro Square Sunglasses (88)  ₹599   \n",
       "2     FDA COLLECTION  Gradient, Mirrored, UV Protection Round, Round...  ₹210   \n",
       "3     FDA COLLECTION  Gradient, Mirrored, UV Protection Round, Round...  ₹210   \n",
       "4         Phenomenal  UV Protection, Mirrored Retro Square Sunglasse...  ₹399   \n",
       "5     Rozzetta Craft   UV Protection Rectangular Sunglasses (Free Size)  ₹398   \n",
       "6            Dannilo  Gradient, UV Protection, Others Aviator Sungla...  ₹233   \n",
       "7         STYLE GURU       UV Protection Aviator Sunglasses (Free Size)  ₹799   \n",
       "8   shah collections         UV Protection Round Sunglasses (Free Size)  ₹331   \n",
       "9     ROZZETTA CRAFT  UV Protection Retro Square Sunglasses (Free Size)  ₹449   \n",
       "10           JOHAENA  Riding Glasses, UV Protection Oval Sunglasses ...  ₹171   \n",
       "11            Gansta    UV Protection, Mirrored Aviator Sunglasses (55)  ₹289   \n",
       "12    FDA COLLECTION  Gradient, Mirrored, UV Protection, Polarized R...  ₹175   \n",
       "13           Winsome                UV Protection Round Sunglasses (54)  ₹172   \n",
       "14          Fastrack      UV Protection Wayfarer Sunglasses (Free Size)  ₹759   \n",
       "15         Royal Son  Gradient, UV Protection Round, Oval, Cat-eye S...  ₹699   \n",
       "16        Phenomenal  UV Protection Retro Square Sunglasses (Free Size)  ₹399   \n",
       "17        funglasses  UV Protection, Night Vision, Riding Glasses Ro...  ₹161   \n",
       "18              Mode       UV Protection Aviator Sunglasses (Free Size)  ₹109   \n",
       "19            Gansta  UV Protection, Night Vision, Riding Glasses Av...  ₹268   \n",
       "20  shah collections         UV Protection Round Sunglasses (Free Size)  ₹312   \n",
       "21          Fastrack  Gradient, UV Protection Wayfarer Sunglasses (F...  ₹645   \n",
       "22    ROZZETTA CRAFT  UV Protection, Gradient Rectangular Sunglasses...  ₹449   \n",
       "23         Royal Son                   Mirrored Aviator Sunglasses (55)  ₹399   \n",
       "24            Riffko             UV Protection Wayfarer Sunglasses (55)  ₹189   \n",
       "25            Riffko                UV Protection Round Sunglasses (55)  ₹175   \n",
       "26    Trendy Glasses  UV Protection, Night Vision Retro Square Sungl...  ₹249   \n",
       "27       Specsmakers                     Mirrored Round Sunglasses (52)  ₹495   \n",
       "28            PIRASO              UV Protection Aviator Sunglasses (58)  ₹349   \n",
       "29        Phenomenal  Polarized, UV Protection, Gradient Rectangular...  ₹299   \n",
       "30        funglasses  Riding Glasses, Night Vision Round, Round Sung...  ₹160   \n",
       "31              hipe  UV Protection, Mirrored, Night Vision, Gradien...  ₹185   \n",
       "32         kingscape         UV Protection Round Sunglasses (Free Size)  ₹309   \n",
       "33      Singco India         UV Protection Round Sunglasses (Free Size)  ₹175   \n",
       "34              LOPO  Polarized, Mirrored, UV Protection Retro Squar...  ₹119   \n",
       "35       Specsmakers                 Polarized Wayfarer Sunglasses (53)  ₹696   \n",
       "36           Dannilo           Mirrored Wayfarer Sunglasses (Free Size)  ₹236   \n",
       "37             shadz  UV Protection, Polarized Retro Square Sunglass...  ₹299   \n",
       "38      Singco India  UV Protection, Polarized Aviator Sunglasses (F...  ₹189   \n",
       "39         Royal Son  Polarized, UV Protection Rectangular Sunglasse...  ₹699   \n",
       "\n",
       "   Discount  \n",
       "0   65% off  \n",
       "1   70% off  \n",
       "2   83% off  \n",
       "3   85% off  \n",
       "4   80% off  \n",
       "5   73% off  \n",
       "6   80% off  \n",
       "7   77% off  \n",
       "8   80% off  \n",
       "9   79% off  \n",
       "10  86% off  \n",
       "11  80% off  \n",
       "12  82% off  \n",
       "13  82% off  \n",
       "14  15% off  \n",
       "15  53% off  \n",
       "16  80% off  \n",
       "17  83% off  \n",
       "18  84% off  \n",
       "19  79% off  \n",
       "20  75% off  \n",
       "21  19% off  \n",
       "22  77% off  \n",
       "23  73% off  \n",
       "24  84% off  \n",
       "25  82% off  \n",
       "26  86% off  \n",
       "27  50% off  \n",
       "28  86% off  \n",
       "29  85% off  \n",
       "30  83% off  \n",
       "31  86% off  \n",
       "32  80% off  \n",
       "33  82% off  \n",
       "34  82% off  \n",
       "35  65% off  \n",
       "36  76% off  \n",
       "37  76% off  \n",
       "38  72% off  \n",
       "39  53% off  "
      ]
     },
     "execution_count": 181,
     "metadata": {},
     "output_type": "execute_result"
    }
   ],
   "source": [
    "jobs"
   ]
  },
  {
   "cell_type": "code",
   "execution_count": 182,
   "metadata": {},
   "outputs": [],
   "source": [
    "driver.close()"
   ]
  },
  {
   "cell_type": "markdown",
   "metadata": {},
   "source": [
    "Q8: Scrape data for first 100 sneakers you find when you visit flipkart.com and search for “sneakers” in the search field."
   ]
  },
  {
   "cell_type": "code",
   "execution_count": 183,
   "metadata": {},
   "outputs": [],
   "source": [
    "driver=webdriver.Chrome(r'C:\\chromedriver.exe')"
   ]
  },
  {
   "cell_type": "code",
   "execution_count": 184,
   "metadata": {},
   "outputs": [],
   "source": [
    "brand_list1=[]\n",
    "product_description1=[]\n",
    "price_list1=[]\n",
    "discount_list1=[]"
   ]
  },
  {
   "cell_type": "code",
   "execution_count": 187,
   "metadata": {
    "scrolled": true
   },
   "outputs": [
    {
     "data": {
      "text/plain": [
       "['Chevit',\n",
       " 'Ducati',\n",
       " 'Chevit',\n",
       " 'Chevit',\n",
       " 'Deny Brown',\n",
       " 'World Wear Footwear',\n",
       " 'Shoes Bank',\n",
       " 'Ducati',\n",
       " 'Robbie jones',\n",
       " 'Chevit',\n",
       " 'Chevit',\n",
       " 'Ducati',\n",
       " 'D-SNEAKERZ',\n",
       " 'Chevit',\n",
       " 'Red Rose',\n",
       " 'Marc Ecko',\n",
       " 'GANPATI TRADERS',\n",
       " 'Oricum',\n",
       " 'Hotstyle',\n",
       " 'French Connection',\n",
       " 'Oricum',\n",
       " 'Stinson',\n",
       " 'Robbie jones',\n",
       " 'French Connection',\n",
       " 'Essence',\n",
       " 'Rockfield',\n",
       " 'T-Rock',\n",
       " 'French Connection',\n",
       " 'Chevit',\n",
       " 'Essence',\n",
       " 'Magnolia',\n",
       " 'French Connection',\n",
       " 'BRUTON',\n",
       " 'Oricum',\n",
       " 'Aura',\n",
       " 'WHITE WALKERS',\n",
       " 'Camfoot',\n",
       " 'bluemaker',\n",
       " 'ZOVIM',\n",
       " 'Ducati']"
      ]
     },
     "execution_count": 187,
     "metadata": {},
     "output_type": "execute_result"
    }
   ],
   "source": [
    "name_tags1=driver.find_elements_by_xpath('//div[@class=\"_2WkVRV\"]')\n",
    "for i in name_tags1:\n",
    "    brand=i.text\n",
    "    brand_list1.append(brand)\n",
    "brand_list1[0:100]"
   ]
  },
  {
   "cell_type": "code",
   "execution_count": null,
   "metadata": {},
   "outputs": [],
   "source": []
  },
  {
   "cell_type": "markdown",
   "metadata": {},
   "source": [
    "Q9: Go to the link - https://www.myntra.com/shoes\n",
    "Set Price filter to “Rs. 6649 to Rs. 13099” , Color filter to “Black”, as shown in the below image,And then scrape First 100 shoes data you get. The data should include “Brand” of the shoes , Short Shoe description, price of the shoe as shown in the below image"
   ]
  },
  {
   "cell_type": "code",
   "execution_count": 112,
   "metadata": {},
   "outputs": [],
   "source": [
    "brand_list1=[]\n",
    "short_shoe_list=[]\n",
    "price_list=[]"
   ]
  },
  {
   "cell_type": "code",
   "execution_count": 108,
   "metadata": {},
   "outputs": [],
   "source": [
    "url=driver=webdriver.Chrome(r'C:\\chromedriver.exe')"
   ]
  },
  {
   "cell_type": "code",
   "execution_count": 109,
   "metadata": {},
   "outputs": [],
   "source": [
    "url='https://www.myntra.com/shoes?f=Color%3ABlack_36454f&plaEnabled=false&rf=Price%3A7649.0_15099.0_7649.0%20TO%2015099.0'"
   ]
  },
  {
   "cell_type": "code",
   "execution_count": 110,
   "metadata": {},
   "outputs": [],
   "source": [
    "driver.get(url)"
   ]
  },
  {
   "cell_type": "code",
   "execution_count": 127,
   "metadata": {},
   "outputs": [
    {
     "data": {
      "text/plain": [
       "[]"
      ]
     },
     "execution_count": 127,
     "metadata": {},
     "output_type": "execute_result"
    }
   ],
   "source": [
    "brand_tags=driver.find_elements_by_xpath('//div[@class=\"pdp-title\"]')[0:10]\n",
    "brand_tags[0:10]"
   ]
  },
  {
   "cell_type": "code",
   "execution_count": null,
   "metadata": {},
   "outputs": [],
   "source": [
    "for i in brand_tags:\n",
    "    brand_shoes=i.text\n",
    "    brand_list1.append(brand_shoes)\n",
    "brand_list1[0:100]"
   ]
  },
  {
   "cell_type": "code",
   "execution_count": 185,
   "metadata": {},
   "outputs": [],
   "source": [
    "url='https://www.flipkart.com/search?q=sneakers&otracker=search&otracker1=search&marketplace=FLIPKART&as-show=on&as=off'"
   ]
  },
  {
   "cell_type": "code",
   "execution_count": 186,
   "metadata": {},
   "outputs": [],
   "source": [
    "driver.get(url)"
   ]
  },
  {
   "cell_type": "markdown",
   "metadata": {},
   "source": [
    "Go to webpage https://www.amazon.in/\n",
    "Enter “Laptop” in the search field and then click the search icon.\n",
    "Then set CPU Type filter to “Intel Core i7” and “Intel Core i9” as shown in the below image:\n",
    "After setting the filters scrape first 10 laptops data. You have to scrape 3 attributes for each laptop:\n",
    "1. title\n",
    "2. Ratings\n",
    "3. Price"
   ]
  },
  {
   "cell_type": "code",
   "execution_count": 142,
   "metadata": {},
   "outputs": [],
   "source": [
    "title_list1=[]\n",
    "rating_list=[]\n",
    "price_list=[]"
   ]
  },
  {
   "cell_type": "code",
   "execution_count": 129,
   "metadata": {},
   "outputs": [],
   "source": [
    "driver=webdriver.Chrome(r'C:\\chromedriver.exe')"
   ]
  },
  {
   "cell_type": "code",
   "execution_count": 130,
   "metadata": {},
   "outputs": [],
   "source": [
    "#specifying the url to be scrapped\n",
    "url=\"https://www.amazon.in/s?k=Laptop&rh=n%3A1375424031%2Cp_n_feature_thirteen_browse-bin%3A12598163031&dc&qid=1608217604&rnid=12598141031&ref=sr_nr_p_n_feature_thirteen_browse-bin_16\""
   ]
  },
  {
   "cell_type": "code",
   "execution_count": 131,
   "metadata": {},
   "outputs": [],
   "source": [
    "driver.get(url)"
   ]
  },
  {
   "cell_type": "code",
   "execution_count": 138,
   "metadata": {},
   "outputs": [
    {
     "name": "stdout",
     "output_type": "stream",
     "text": [
      "[<selenium.webdriver.remote.webelement.WebElement (session=\"3521d2d0de9f7305cd291e1ffa8f26de\", element=\"ff2b6f11-48e2-4302-90c6-c272468957d5\")>]\n"
     ]
    },
    {
     "data": {
      "text/plain": [
       "[<selenium.webdriver.remote.webelement.WebElement (session=\"3521d2d0de9f7305cd291e1ffa8f26de\", element=\"bb08d7c3-fedc-4db4-b8b2-836b674e6fb2\")>,\n",
       " <selenium.webdriver.remote.webelement.WebElement (session=\"3521d2d0de9f7305cd291e1ffa8f26de\", element=\"8f065681-fc36-4ae2-b025-d1a4860564bb\")>,\n",
       " <selenium.webdriver.remote.webelement.WebElement (session=\"3521d2d0de9f7305cd291e1ffa8f26de\", element=\"f0ce8f14-13e9-4c31-a64f-d01c361097e6\")>,\n",
       " <selenium.webdriver.remote.webelement.WebElement (session=\"3521d2d0de9f7305cd291e1ffa8f26de\", element=\"5a83c8a5-17aa-4b0b-b6de-9fd6c4baefa4\")>,\n",
       " <selenium.webdriver.remote.webelement.WebElement (session=\"3521d2d0de9f7305cd291e1ffa8f26de\", element=\"c911ace6-e1d6-4882-9722-d9a4597e4c6b\")>,\n",
       " <selenium.webdriver.remote.webelement.WebElement (session=\"3521d2d0de9f7305cd291e1ffa8f26de\", element=\"fbc73b36-e757-436a-a4fe-5957fcaeecce\")>,\n",
       " <selenium.webdriver.remote.webelement.WebElement (session=\"3521d2d0de9f7305cd291e1ffa8f26de\", element=\"562d7ed3-7397-4b13-9c97-1f7d4d7040da\")>,\n",
       " <selenium.webdriver.remote.webelement.WebElement (session=\"3521d2d0de9f7305cd291e1ffa8f26de\", element=\"118dd7c1-45c8-4d16-84e1-9f79cb664222\")>,\n",
       " <selenium.webdriver.remote.webelement.WebElement (session=\"3521d2d0de9f7305cd291e1ffa8f26de\", element=\"d3e24afd-da35-4b1c-a66b-1e10f1090390\")>,\n",
       " <selenium.webdriver.remote.webelement.WebElement (session=\"3521d2d0de9f7305cd291e1ffa8f26de\", element=\"3bdbefa7-ce03-48de-985f-b4aacdddd52e\")>]"
      ]
     },
     "execution_count": 138,
     "metadata": {},
     "output_type": "execute_result"
    }
   ],
   "source": [
    "title_tags1=driver.find_elements_by_xpath('//span[@class=\"a-size-medium a-color-base a-text-normal\"]')\n",
    "title_tags1[0:10]\n"
   ]
  },
  {
   "cell_type": "code",
   "execution_count": 147,
   "metadata": {},
   "outputs": [
    {
     "data": {
      "text/plain": [
       "['Skip to main content\\n.in\\nHello\\nSelect your address\\nComputers & Accessories\\nAll Categories\\nDeals\\nAlexa Skills\\nAmazon Devices\\nAmazon Fashion\\nAmazon Pantry\\nAppliances\\nApps & Games\\nBaby\\nBeauty\\nBooks\\nCar & Motorbike\\nClothing & Accessories\\nCollectibles\\nComputers & Accessories\\nElectronics\\nFurniture\\nGarden & Outdoors\\nGift Cards\\nGrocery & Gourmet Foods\\nHealth & Personal Care\\nHome & Kitchen\\nIndustrial & Scientific\\nJewellery\\nKindle Store\\nLuggage & Bags\\nLuxury Beauty\\nMovies & TV Shows\\nMusic\\nMusical Instruments\\nOffice Products\\nPet Supplies\\nPrime Video\\nShoes & Handbags\\nSoftware\\nSports, Fitness & Outdoors\\nTools & Home Improvement\\nToys & Games\\nUnder ₹500\\nVideo Games\\nWatches\\nHello, Sign in\\nAccount & Lists\\nReturns\\n& Orders\\n0\\nCart\\nAll\\nMobiles & Accessories\\nLaptops & Accessories\\nTV & Home Entertainment\\nAudio\\nCameras\\nComputer Peripherals\\nSmart Technology\\nMusical Instruments\\n1-24 of 421 results for \"Laptop\"\\nSort by:\\n        \\n            Featured\\n        \\n            Price: Low to High\\n        \\n            Price: High to Low\\n        \\n            Avg. Customer Review\\n        \\n            Newest Arrivals\\n        \\n    Sort by:Featured\\nAmazon Prime\\nDepartment\\nAny Department\\nComputers & Accessories\\nLaptops\\nAvg. Customer Review\\n& Up\\n& Up\\n& Up\\n& Up\\nBrand\\nLenovo\\nHP\\nDell\\nASUS\\nAVITA\\nMI\\nAcer\\nMSI\\nLG\\nTamatina\\nPrice\\n₹20,000 – ₹30,000\\n₹30,000 – ₹40,000\\n₹40,000 – ₹50,000\\nOver ₹50,000\\n₹\\n₹\\nGo\\nDeals\\nToday\\'s Deals\\nCPU Type\\nClear\\nAMD A-Series\\nAMD A10\\nAMD A4\\nAMD A6\\nAMD A8\\nAMD Athlon\\nAMD E-Series\\nAMD Ryzen 3\\nAMD Ryzen 5\\nAMD Ryzen 7\\nIntel Atom\\nIntel Celeron\\nIntel Core 2\\nIntel Core i3\\nIntel Core i5\\nIntel Core i7\\nIntel Core i9\\nIntel Pentium\\nMaximum CPU Speed\\nUp to 1.5 GHz\\n1.6 - 2 GHz\\n2.1 - 2.5 GHz\\n2.5 GHz & more\\nLaptop Usage\\nBusiness\\nGaming\\nPersonal\\nOperating System\\nWindows 10\\nWindows 8\\nWindows 7\\nChrome\\nDOS\\nMemory Size\\nUp to 2 GB\\n3 GB\\n4 GB\\n6 GB\\n8 GB\\n12 GB\\n16 GB & more\\nHDD Size\\nUp to 159 GB\\n160 - 249 GB\\n250 - 499 GB\\n500 - 999 GB\\n1TB & More\\nStorage Type\\nHybrid Drive\\nMechanical Hard Drive\\nSolid State Drive\\nFeatures\\nAnti Reflective\\nCD/DVD\\nFingerprint Reader\\nTouchscreen\\nLaptop Type\\nChromebook\\nConvertible 2 in 1\\nNotebook\\nUltrabook\\nLaptop Weight\\nUp to 0.9 kg\\n1 - 1.4 kg\\n1.5 - 1.9 kg\\n2 - 2.4 kg\\n2.5 kg & more\\nBattery Life\\nUp to 4 Hours\\n5 - 7 Hours\\n8 - 10 Hours\\n11 Hours & More\\nGraphics Processor\\nIntel Integrated Graphics\\nNvidia GeForce\\nCPU Manufacturer\\nAMD\\nIntel\\nLaptop Display Size\\nUp to 10\"\\n13\" - 14\"\\n15\" - 16\"\\n17\" & More\\nNew Arrivals\\nLast 30 days\\nLast 90 days\\nItem Condition\\nNew\\nDiscount\\n10% Off or more\\n25% Off or more\\n35% Off or more\\n50% Off or more\\nPay On Delivery\\nEligible for Pay On Delivery\\nAvailability\\nInclude Out of Stock\\nSeller\\nAppario Retail Private Ltd\\nComputronics Multivision Pvt. Ltd.\\nLazyStore\\nAuthorize Partner MSI / Asus & many other brands\\nShopForBest\\nElectronics Bazaar\\nThe-EStore\\nEagle Information\\nFastDeals®\\nKIDA Retail Private Ltd\\nSponsored\\nLooking for Laptops? Shop from a wide selection of laptops from HP, Dell, Lenovo & Apple.\\nShop now\\n(Renewed) Lenovo ThinkPad High Performance 12.5 inch IPS Panel 1.53 kg Laptop (Core I7 5600U/8 GB(Upto 16GB)/1 TB/Win 10 Pro/Webcam/USB 3.0/SIM/BT/M.2/Cardreader/TPM 2.0 VPro/Integrated Graphics)\\n11\\n₹34,999\\n₹89,999 Save ₹55,000 (61%)\\nSave extra with No Cost EMI\\nGet it by Monday, December 21\\nFREE Delivery by Amazon\\nLenovo ThinkPad E14 Intel Core i7 10th Gen14-inch Full HD IPS Thin and Light Laptop (16GB RAM/ 1TB HDD+256GB SSD/ Windows 10 Home/ Microsoft Office Home & Student 2019/ Black/ 1.69kg), 20RAS0AM00\\n₹84,990\\n₹1,00,640 Save ₹15,650 (16%)\\nSave extra with No Cost EMI\\nGet it by Thursday, December 24\\nFREE Delivery by Amazon\\nASUS ZenBook 14 (2020) Intel Core i7-1165G7 11th Gen 14-inch FHD Thin and Light Laptop (16GB RAM/512GB NVMe SSD/Windows 10/MS Office 2019/Intel Iris Xᵉ Graphics/Pine Grey/1.17 kg), UX425EA-BM701TS\\n8\\n₹95,840\\n₹1,18,990 Save ₹23,150 (19%)\\nSave extra with No Cost EMI\\nGet it by Thursday, December 24\\nFREE Delivery by Amazon\\nASUS TUF Gaming F15 Laptop 15.6\" FHD Intel Core i7 10th Gen, GeForce GTX 1650 4GB GDDR6 Graphics (8GB RAM/512GB NVMe SSD/Windows 10/Fortress Gray/2.30 Kg), FX566LH-BQ036T + Xbox Game Pass for PC\\n16\\n₹73,990\\n₹1,03,990 Save ₹30,000 (29%)\\nSave extra with No Cost EMI\\nGet it by Sunday, December 20\\nFREE Delivery by Amazon\\nAsus VivoBook S14 Core i7 8th Gen - (8 GB/1 TB HDD/256 GB SSD/Windows 10 Home/2 GB Graphics) S430FN-EB059T Thin and Light Laptop (14 inch, Gun Metal, 1.4 kg)\\n₹69,990\\n₹86,990 Save ₹17,000 (20%)\\nSave extra with No Cost EMI\\nGet it by Saturday, December 19\\nFREE Delivery by Amazon\\nOnly 1 left in stock.\\nHP Pavilion x360 Core i7 8th Gen 14-inch Touchscreen 2-in-1 FHD Thin and Light Laptop (16GB/512GB SSD/Windows 10/MS Office/2GB Graphics/Mineral Silver/1.59 kg), 14- dh0045TX\\n271\\nDeal of the Day\\n₹82,990\\n₹98,242 Save ₹15,252 (16%)\\nSave extra with No Cost EMI\\nGet it by Saturday, December 19\\nFREE Delivery by Amazon\\n(Renewed) Dell Inspiron 3567 Laptop Core i3-7th/6GB/1TB/15.6\\'\\'/WIN 10 HOME\\n₹29,990\\n₹68,090 Save ₹38,100 (56%)\\nSave extra with No Cost EMI\\nGet it by Saturday, December 19\\nFREE Delivery by Amazon\\nAsus ROG Strix G15 Core i7 10th Gen - (8 GB/512 GB SSD/Windows 10 Home/4 GB Graphics/NVIDIA Geforce GTX 1650 Ti/144 Hz) G512LI-HN081T Gaming Laptop (15.6 inch, Black Plastic, 2.30 kg)\\n₹84,990\\n₹1,16,990 Save ₹32,000 (27%)\\nSave extra with No Cost EMI\\nGet it by Saturday, December 19\\nFREE Delivery by Amazon\\nOnly 1 left in stock.\\nMSI Gaming GL65 Leopard , Intel 9th Gen. i7-9750H, 15.6\" FHD Gaming Laptop (8GB/512GB NVMe SSD/Windows 10 Home/Nvidia GTX 1650/ Black/2.3Kg) 9SCXK-076IN\\n51\\n₹69,990\\n₹95,990 Save ₹26,000 (27%)\\nSave extra with No Cost EMI\\nGet it by Saturday, December 19\\nFREE Delivery by Amazon\\n(Renewed) HP EliteBook FOLIO 9480M Laptop (Core i7 4th Gen/4GB/500GB/WEBCAM/14\\'\\'/DOS)\\n₹24,490\\n₹53,100 Save ₹28,610 (54%)\\nSave extra with No Cost EMI\\nGet it by Sunday, December 20\\nFREE Delivery by Amazon\\nHP Pavilion x360 Touchscreen 2-in-1 FHD 14-inch Laptop (10th Gen Core i7-10510U/8GB/512GB SSD/Windows 10 Home/MS Office/Mineral Silver/1.58 kg), 14-dh1180tu\\n45\\n₹74,990\\n₹92,418 Save ₹17,428 (19%)\\nSave extra with No Cost EMI\\nGet it by Saturday, December 19\\nFREE Delivery by Amazon\\nMore Buying Choices\\n₹74,890 (6 new offers)\\nHP 14 10th Gen Intel Core i7 Ultra Thin and Light FHD Laptop (i7-1065G7/8GB/512GB SSD/Win 10/MS Office 2019/Natural Silver/1.46 Kg), 14s-DR1010TU\\n13\\n₹71,390\\n₹81,868 Save ₹10,478 (13%)\\nSave extra with No Cost EMI\\nGet it by Wednesday, December 23\\nFREE Delivery by Amazon\\nASUS TUF Gaming F15, 15.6\" FHD 144Hz, Intel Core i7-10870H 10th Gen, GTX 1650 Ti GDDR6 4GB Graphics, Gaming Laptop (8GB RAM/1TB HDD + 512GB SSD/Windows 10/Fortress Gray/2.3 Kg), FX566LI-HN132T\\n₹94,499\\n₹1,14,990 Save ₹20,491 (18%)\\nSave extra with No Cost EMI\\nGet it by Thursday, December 24\\nFREE Delivery by Amazon\\nOnly 2 left in stock.\\nASUS ZenBook 13 (2020) Intel Core i7-1165G7 11th Gen 13.3-inch FHD Thin and Light Laptop (16GB RAM/1TB NVMe SSD/Windows 10/MS Office 2019/Intel Iris Xᵉ Graphics/Lilac Mist/1.11 kg), UX325EA-EG701TS\\n₹99,990\\n₹1,22,990 Save ₹23,000 (19%)\\nSave extra with No Cost EMI\\nFREE Delivery by Amazon\\nIn stock on December 19, 2020.\\n(Renewed) Lenovo ThinkPad High Performance 12.5 inch IPS Panel 1.53 kg Laptop (Core I7 5600U/8 GB(Upto 16GB)/512 GB SSD/Win 10 Pro/Webcam/USB 3.0/SIM/BT/M.2/TPM 2.0 VPro/Integrated Graphics)\\n₹39,999\\n₹89,999 Save ₹50,000 (56%)\\nSave extra with No Cost EMI\\nGet it by Monday, December 21\\nFREE Delivery by Amazon\\nDell G3 3500 Gaming 15.6inch 120hz FHD Display Laptop (10th Gen i7-10750H / 8 GB / 512 SSD / GTX 1650 4GB / 1Yr Premium Warranty/ Win 10 + MS Office H&S 2019) D560250WIN9BE\\n15\\n₹85,990\\n₹93,971 Save ₹7,981 (8%)\\nSave extra with No Cost EMI\\nGet it by Saturday, December 19\\nFREE Delivery by Amazon\\nAsus VivoBook Gaming (2020) Core i7 10th Gen - (16 GB/512 GB SSD/Windows 10 Home/4 GB Graphics/NVIDIA Geforce GTX 1650/120 Hz) F571LH-AL150T Gaming Laptop (15.6 inch, Star Black, 2.14 kg)\\n₹81,990\\n₹97,990 Save ₹16,000 (16%)\\nSave extra with No Cost EMI\\nGet it by Saturday, December 19\\nFREE Delivery by Amazon\\nOnly 1 left in stock.\\nASUS VivoBook Ultra 15 (2020) Intel Core i7-1165G7 11th Gen 15.6-inch FHD Thin and Light Laptop (8GB/512GB NVMe SSD/Integrated Graphics/Windows 10/MS Office 2019/Dreamy White/1.8 kg), X513EA-EJ733TS\\n1\\n₹69,990\\n₹84,990 Save ₹15,000 (18%)\\nSave extra with No Cost EMI\\nGet it by Thursday, December 24\\nFREE Delivery by Amazon\\nAsus ROG Strix G15 (2020) Core i7 10th Gen - (16 GB/1 TB SSD/Windows 10 Home/4 GB Graphics/NVIDIA Geforce GTX 1650 Ti/144 Hz) G512LI-HN086T Gaming Laptop (15.6 inch, Black Plastic, 2.30 kg)\\n₹1,04,980\\n₹2,14,990 Save ₹1,10,010 (51%)\\nSave extra with No Cost EMI\\nGet it by Monday, December 21\\nFREE Delivery by Amazon\\nOnly 2 left in stock.\\nDell Inspiron 5501 15.6 Inch FHD Laptop (10th Gen i7-1065G7/8 GB/512 SSD/2 GB Nvidia Graphics/Win 10 + MS Office H&S 2019/Silver) D560213WIN9S\\n4\\n₹85,990\\n₹95,732 Save ₹9,742 (10%)\\nSave extra with No Cost EMI\\nGet it by Saturday, December 19\\nFREE Delivery by Amazon\\nASUS VivoBook S S14 Intel Core i7-1165G7 11th Gen, 14-inch FHD Thin and Light Laptop (8GB RAM/512GB SSD + 32GB Optane Memory/Windows 10/Office 2019/Iris Xᵉ Graphics/Indie Black/1.4 Kg), S433EA-AM701TS\\n₹79,990\\n₹98,990 Save ₹19,000 (19%)\\nSave extra with No Cost EMI\\nGet it by Thursday, December 24\\nFREE Delivery by Amazon\\nOnly 2 left in stock.\\nMore Buying Choices\\n₹79,985 (3 new offers)\\nLenovo ThinkPad X390 Intel Core i7 8th Gen 13.3\" FHD (1920x1080) IPS Thin and Light Laptop (8GB RAM / 512GB SSD/ Windows 10 Professional 64/ Black/ 1.29Kg), 20Q0S1ET00\\n6\\nLimited time deal\\n₹89,990\\n₹1,67,981 Save ₹77,991 (46%)\\nSave extra with No Cost EMI\\nGet it by Thursday, December 24\\nFREE Delivery by Amazon\\nDell Latitude 3410 14 Inch Core i7 10th Gen (16 GB/ 512GB SSD / Windows 10Pro / 2GB NVIDIA Graphics ) Business Laptop\\n5\\n₹98,990\\n₹1,01,999 Save ₹3,009 (3%)\\nSave extra with No Cost EMI\\nGet it by Monday, December 21\\nFREE Delivery by Amazon\\nMicrosoft Laptop 2 1769 13.5-inch Laptop (Intel Core i7/8GB/256GB SSD/Windows 10 Home/Integrated Graphics), Platinum\\n₹1,50,245\\n₹1,50,999 Save ₹754\\nSave extra with No Cost EMI\\nGet it by Sunday, December 20\\nFREE Delivery by Amazon\\nRelated searches\\nlaptop dell\\nlaptop hp\\ncomputer\\nlaptop lenovo\\n←Previous\\n1\\n2\\n3\\n...\\n18\\nNext→\\nBrands related to your search\\nThin & Light Laptops Powered by 10th Gen Intel\\nShop ASUS \\nMetallic, Fast, Thin, Light and Stylish\\nShop Mi NoteBook Series \\nSponsored\\nNeed help?\\nVisit the help section or contact us\\nSponsored\\n\\n\\nBack to top\\nGet to Know Us\\nAbout Us\\nCareers\\nPress Releases\\nAmazon Cares\\nGift a Smile\\nConnect with Us\\nFacebook\\nTwitter\\nInstagram\\nMake Money with Us\\nSell on Amazon\\nSell under Amazon Accelerator\\nBecome an Affiliate\\nFulfilment by Amazon\\nAdvertise Your Products\\nAmazon Pay on Merchants\\nLet Us Help You\\nCOVID-19 and Amazon\\nYour Account\\nReturns Centre\\n100% Purchase Protection\\nAmazon App Download\\nAmazon Assistant Download\\nHelp\\nEnglish\\nAustraliaBrazilCanadaChinaFranceGermanyItalyJapanMexicoNetherlandsSingaporeSpainUnited Arab EmiratesUnited KingdomUnited States\\nAbeBooks\\nBooks, art\\n& collectibles Amazon Web Services\\nScalable Cloud\\nComputing Services Audible\\nDownload\\nAudio Books DPReview\\nDigital\\nPhotography IMDb\\nMovies, TV\\n& Celebrities\\n  Shopbop\\nDesigner\\nFashion Brands Amazon Business\\nEverything For\\nYour Business Prime Now\\n2-Hour Delivery\\non Everyday Items Amazon Prime Music\\n60 million songs  \\nConditions of Use & SalePrivacy NoticeInterest-Based Ads© 1996-2020, Amazon.com, Inc. or its affiliates',\n",
       " '(Renewed) Lenovo ThinkPad High Performance 12.5 inch IPS Panel 1.53 kg Laptop (Core I7 5600U/8 GB(Upto 16GB)/1 TB/Win 10 Pro/Webcam/USB 3.0/SIM/BT/M.2/Cardreader/TPM 2.0 VPro/Integrated Graphics)',\n",
       " 'Lenovo ThinkPad E14 Intel Core i7 10th Gen14-inch Full HD IPS Thin and Light Laptop (16GB RAM/ 1TB HDD+256GB SSD/ Windows 10 Home/ Microsoft Office Home & Student 2019/ Black/ 1.69kg), 20RAS0AM00',\n",
       " 'ASUS ZenBook 14 (2020) Intel Core i7-1165G7 11th Gen 14-inch FHD Thin and Light Laptop (16GB RAM/512GB NVMe SSD/Windows 10/MS Office 2019/Intel Iris Xᵉ Graphics/Pine Grey/1.17 kg), UX425EA-BM701TS',\n",
       " 'ASUS TUF Gaming F15 Laptop 15.6\" FHD Intel Core i7 10th Gen, GeForce GTX 1650 4GB GDDR6 Graphics (8GB RAM/512GB NVMe SSD/Windows 10/Fortress Gray/2.30 Kg), FX566LH-BQ036T + Xbox Game Pass for PC',\n",
       " 'Asus VivoBook S14 Core i7 8th Gen - (8 GB/1 TB HDD/256 GB SSD/Windows 10 Home/2 GB Graphics) S430FN-EB059T Thin and Light Laptop (14 inch, Gun Metal, 1.4 kg)',\n",
       " 'HP Pavilion x360 Core i7 8th Gen 14-inch Touchscreen 2-in-1 FHD Thin and Light Laptop (16GB/512GB SSD/Windows 10/MS Office/2GB Graphics/Mineral Silver/1.59 kg), 14- dh0045TX',\n",
       " \"(Renewed) Dell Inspiron 3567 Laptop Core i3-7th/6GB/1TB/15.6''/WIN 10 HOME\",\n",
       " 'Asus ROG Strix G15 Core i7 10th Gen - (8 GB/512 GB SSD/Windows 10 Home/4 GB Graphics/NVIDIA Geforce GTX 1650 Ti/144 Hz) G512LI-HN081T Gaming Laptop (15.6 inch, Black Plastic, 2.30 kg)',\n",
       " 'MSI Gaming GL65 Leopard , Intel 9th Gen. i7-9750H, 15.6\" FHD Gaming Laptop (8GB/512GB NVMe SSD/Windows 10 Home/Nvidia GTX 1650/ Black/2.3Kg) 9SCXK-076IN']"
      ]
     },
     "execution_count": 147,
     "metadata": {},
     "output_type": "execute_result"
    }
   ],
   "source": [
    "title_tags1=driver.find_elements_by_xpath('//span[@class=\"a-size-medium a-color-base a-text-normal\"]')[0:10]\n",
    "for i in title_tags1:\n",
    "    title1=i.text\n",
    "    title_list1.append(title1)\n",
    "title_list1[0:10]"
   ]
  },
  {
   "cell_type": "code",
   "execution_count": null,
   "metadata": {},
   "outputs": [],
   "source": []
  }
 ],
 "metadata": {
  "kernelspec": {
   "display_name": "Python 3",
   "language": "python",
   "name": "python3"
  },
  "language_info": {
   "codemirror_mode": {
    "name": "ipython",
    "version": 3
   },
   "file_extension": ".py",
   "mimetype": "text/x-python",
   "name": "python",
   "nbconvert_exporter": "python",
   "pygments_lexer": "ipython3",
   "version": "3.7.6"
  }
 },
 "nbformat": 4,
 "nbformat_minor": 4
}
